{
 "cells": [
  {
   "cell_type": "markdown",
   "metadata": {},
   "source": [
    "# Init"
   ]
  },
  {
   "cell_type": "code",
   "execution_count": 50,
   "metadata": {
    "ExecuteTime": {
     "end_time": "2017-04-04T19:57:31.316535",
     "start_time": "2017-04-04T19:57:31.282832"
    }
   },
   "outputs": [
    {
     "name": "stdout",
     "output_type": "stream",
     "text": [
      "/Core/home/rosiec/Dropbox/School_Docs/Papers/Journal_CE_Paper/data_analysis/raw_data/082_Final\n",
      "/Core/home/rosiec/Dropbox/School_Docs/Papers/Journal_CE_Paper/data_analysis/intermediate_data\n"
     ]
    }
   ],
   "source": [
    "import collections\n",
    "\n",
    "\n",
    "## Dataset-specific -- edit me\n",
    "data_number = \"082\"\n",
    "data_name = \"Final\"\n",
    "\n",
    "treatments = collections.OrderedDict()\n",
    "treatments['control'] = 'control'\n",
    "treatments['noreward'] = 'benign'\n",
    "treatments['punish'] = 'harsh'\n",
    "\n",
    "## basic config\n",
    "#base_path = \"/home/rosiec/Dropbox/School_Docs/Papers/ALife\\ CE\\ Paper/alife2016/evo_mod/\"\n",
    "#base_path = \"/home/rosiec/Dropbox/School_Docs/Papers/Journal\\ CE\\ Paper/data_analysis/\"\n",
    "base_path = \"/Core/home/rosiec/Dropbox/School_Docs/Papers/Journal_CE_Paper/data_analysis/\"\n",
    "\n",
    "raw_data_directory = \"raw_data\"\n",
    "analysis_directory = \"intermediate_data\"\n",
    "scripts_path = \"~/Dropbox/School_Docs/Research/research_scripts/\"\n",
    "\n",
    "## generated\n",
    "data_directory = data_number + \"_\" + \"_\".join(data_name.split(\" \"))\n",
    "data_path = base_path + raw_data_directory + \"/\" + data_directory\n",
    "analysis_path = base_path + analysis_directory\n",
    "\n",
    "print (data_path)\n",
    "print (analysis_path)\n",
    "\n"
   ]
  },
  {
   "cell_type": "code",
   "execution_count": 51,
   "metadata": {
    "ExecuteTime": {
     "end_time": "2017-04-04T19:57:38.266236",
     "start_time": "2017-04-04T19:57:38.124323"
    }
   },
   "outputs": [
    {
     "name": "stdout",
     "output_type": "stream",
     "text": [
      "/Core/home/rosiec/Dropbox/School_Docs/Papers/Journal_CE_Paper/data_analysis/raw_data/082_Final\n",
      "mkdir: cannot create directory ‘/Core/home/rosiec/Dropbox/School_Docs/Papers/Journal_CE_Paper/data_analysis/intermediate_data’: File exists\n",
      "/Core/home/rosiec/Dropbox/School_Docs/Papers/Journal_CE_Paper/data_analysis/intermediate_data\n"
     ]
    },
    {
     "data": {
      "text/plain": [
       "u'/Core/home/rosiec/Dropbox/School_Docs/Papers/Journal_CE_Paper/data_analysis/intermediate_data'"
      ]
     },
     "execution_count": 51,
     "metadata": {},
     "output_type": "execute_result"
    }
   ],
   "source": [
    "%cd {data_path}\n",
    "%mkdir {analysis_path}\n",
    "%cd {analysis_path}\n",
    "%pwd\n"
   ]
  },
  {
   "cell_type": "code",
   "execution_count": 52,
   "metadata": {
    "ExecuteTime": {
     "end_time": "2017-04-04T19:57:53.094903",
     "start_time": "2017-04-04T19:57:49.733207"
    }
   },
   "outputs": [
    {
     "data": {
      "text/plain": [
       "u'0.20.3'"
      ]
     },
     "execution_count": 52,
     "metadata": {},
     "output_type": "execute_result"
    }
   ],
   "source": [
    "import glob\n",
    "\n",
    "\n",
    "import seaborn as sns\n",
    "import pandas as pd\n",
    "import numpy as np\n",
    "import matplotlib.pyplot as plt\n",
    "import scipy  \n",
    "import scikits.bootstrap as bootstrap\n",
    "from scipy import stats\n",
    "import matplotlib.gridspec as gridspec\n",
    "#from IPython.display import Image\n",
    "from PIL import Image\n",
    "from IPython.display import Image as ipyImage\n",
    "\n",
    "%matplotlib inline\n",
    "%rehashx\n",
    "pd.__version__"
   ]
  },
  {
   "cell_type": "code",
   "execution_count": 53,
   "metadata": {
    "ExecuteTime": {
     "end_time": "2017-04-04T19:57:55.040889",
     "start_time": "2017-04-04T19:57:55.006036"
    }
   },
   "outputs": [
    {
     "name": "stdout",
     "output_type": "stream",
     "text": [
      "Usage: quickplot.py [options] outfile [input_file1 column1 \"directory_glob1\" name1 .. input_fileN columnN \"directory_globN\" nameN] \n",
      "          \n",
      "\n",
      "\n",
      "Options:\n",
      "  -h, --help            show this help message and exit\n",
      "  -v, --verbose         print extra messages to stdout\n",
      "  -d, --debug_messages  print debug messages to stdout\n",
      "  --plotonly            Skip the aggregation step, and plot only, using\n",
      "                        existing data files.\n",
      "  --noplot              Skip the plotting step, only aggregate the data files.\n",
      "  -t TITLE, --title=TITLE\n",
      "                        set a different title than outfile (default)\n",
      "  -x XLABEL, --xlabel=XLABEL\n",
      "                        X-axis Label\n",
      "  -y YLABEL, --ylabel=YLABEL\n",
      "                        Y-axis Label\n",
      "  --include_chevrons    Include line marker glyphs in addition to color\n",
      "  --chevrons_by_members\n",
      "                        Make the chevrons track by members, along with line\n",
      "                        style\n",
      "  --data_members=MEMBER_COUNT\n",
      "                        Number of Components from a given data source\n",
      "                        (treatment)\n",
      "  --alt_axis=ALT_AXIS   Use an alternative axis for the Nth data source\n",
      "  -w Y_LABEL_ALT_AXIS, --ylabel_alt_axis=Y_LABEL_ALT_AXIS\n",
      "                        Alternative Y-axis Label\n",
      "  --xtick_multiplier=XTICK_MULTIPLIER\n",
      "                        X-axis Tick Multipliers\n",
      "  --ylog                Y-axis logarithmic scale\n",
      "  --ylim_max=YLIM_MAX   Set the ylim max\n",
      "  --ylim_min=YLIM_MIN   Set the ylim min\n",
      "  --error               include error bars - error values will be calculated\n",
      "                        from data using bootstrap\n",
      "  --samples=SAMPLES     how many samples to draw for bootstrap?\n",
      "  --end_at=END_AT       Stop plotting at datapoint <end_at>\n"
     ]
    }
   ],
   "source": [
    "import sys\n",
    "sys.path.append({scripts_path})\n",
    "%run {scripts_path}/quickplot.py --help"
   ]
  },
  {
   "cell_type": "markdown",
   "metadata": {},
   "source": [
    "# 1Step - Filtered"
   ]
  },
  {
   "cell_type": "code",
   "execution_count": 76,
   "metadata": {
    "ExecuteTime": {
     "end_time": "2017-04-08T17:08:07.275300",
     "start_time": "2017-04-08T17:08:06.019087"
    }
   },
   "outputs": [
    {
     "data": {
      "image/png": "[encoded data removed]",
      "text/plain": [
       "<matplotlib.figure.Figure at 0x7f6ba5d07150>"
      ]
     },
     "metadata": {},
     "output_type": "display_data"
    },
    {
     "data": {
      "image/png": "[encoded data removed]",
      "text/plain": [
       "<matplotlib.figure.Figure at 0x7f6ba5932910>"
      ]
     },
     "metadata": {},
     "output_type": "display_data"
    }
   ],
   "source": [
    "subdir = \"../202_StochasticCE__MutLandscape_1Step/\"\n",
    "\n",
    "\n",
    "tname = {\"control\": \"Static\\n(control)\",\n",
    "        \"noreward\": \"Benign\",\n",
    "        \"punish\": \"Harsh\"}\n",
    "\n",
    "dfs = []\n",
    "for treatment in treatments:\n",
    "    filepath = data_path + \"/\" + subdir + treatment + \"_env/data/mutation_landscape_metrics__ancestor_EQU_only.csv\"\n",
    "    filepath = filepath.replace(\"\\\\\", \"\")\n",
    "\n",
    "    df = pd.read_csv(filepath, sep=\",\", header=None, comment=\"#\", skip_blank_lines=True,                \n",
    "                     usecols=[10, 11, 12, 15],                \n",
    "                     names=[\"XOR Only\", \"EQU Only\", \"XOR & EQU\", \"Does_EQU\"])\n",
    "    \n",
    "    df = pd.melt(df, id_vars=[\"Does_EQU\"], value_name=\"Fraction\", var_name=[\"Type\"])\n",
    "    df['Environment'] = [tname[treatment]] * len(df)\n",
    "    dfs.append(df)\n",
    "    \n",
    "combined = pd.concat(dfs)\n",
    "\n",
    "sns.set(#style=\"whitegrid\", \n",
    "        color_codes=True, \n",
    "        palette=\"bright\"\n",
    ")\n",
    "sns.set_context('paper', font_scale=2)\n",
    "g = sns.factorplot(x=\"Environment\", y=\"Fraction\",\n",
    "                   hue=\"Type\",\n",
    "                   data=combined,\n",
    "                   size=5, aspect=1.5, #\n",
    "                   palette={\"EQU Only\": \"b\", \n",
    "                            \"XOR Only\": \"r\",\n",
    "                            \"XOR & EQU\": \"#89008E\"},\n",
    "                   kind=\"box\", \n",
    "                   legend=False\n",
    "              )\n",
    "plt.subplots_adjust(top=0.85)\n",
    "\n",
    "titles = [\"Fraction of 1-Step Mutants That Lost XOR or EQU\\nStochastic Changing Environment\"]\n",
    "for ax, title in zip(g.axes.flat, titles):\n",
    "    ax.set_title(title)\n",
    "    #ax.set_ylim([-0.01,0.35])\n",
    "    #ax.set_ylim([0,0.35])\n",
    "    \n",
    "L=plt.legend(loc=\"upper left\")#, bbox_to_anchor=(1.05, 1))#bbox_to_anchor=(1.05, 1), loc=2, borderaxespad=0.)\n",
    "\n",
    "\n",
    "### filter out\n",
    "plt.show()\n",
    "filtered = combined.loc[combined[\"Does_EQU\"] == 1]\n",
    "\n",
    "filtered.to_pickle(\"202_SCE_MutLand_1Step__filtered.pd.pickle\")\n",
    "\n",
    "sns.set(#style=\"whitegrid\", \n",
    "        color_codes=True, \n",
    "        palette=\"bright\"\n",
    ")\n",
    "sns.set_context('paper', font_scale=2)\n",
    "g = sns.factorplot(x=\"Environment\", y=\"Fraction\",\n",
    "                   hue=\"Type\",\n",
    "                   data=filtered,\n",
    "                   size=5, aspect=1.5, #\n",
    "                   palette={\"EQU Only\": \"b\", \n",
    "                            \"XOR Only\": \"r\",\n",
    "                            \"XOR & EQU\": \"#89008E\"},\n",
    "                   kind=\"box\", \n",
    "                   legend=False\n",
    "              )\n",
    "plt.subplots_adjust(top=0.85)\n",
    "\n",
    "titles = [\"Fraction of 1-Step Mutants That Lost XOR or EQU\\nHaving Performed EQU as Ancestor\\nStochastic Changing Environment\"]\n",
    "for ax, title in zip(g.axes.flat, titles):\n",
    "    ax.set_title(title)\n",
    "    #ax.set_ylim([-0.01,0.35])\n",
    "    #ax.set_ylim([0,0.35])\n",
    "    \n",
    "L=plt.legend(loc=\"upper left\")#, bbox_to_anchor=(1.05, 1))#bbox_to_anchor=(1.05, 1), loc=2, borderaxespad=0.)\n",
    "\n"
   ]
  },
  {
   "cell_type": "markdown",
   "metadata": {},
   "source": [
    "# Stats"
   ]
  },
  {
   "cell_type": "code",
   "execution_count": 55,
   "metadata": {
    "collapsed": true
   },
   "outputs": [],
   "source": [
    "def mww(a, b, nameA, nameB, title, field):\n",
    "    print\n",
    "    print title + \" - \" + nameA + \" vs \" + nameB\n",
    "    print \"-----------------\"\n",
    "    print stats.ranksums(a[field], b[field]) \n",
    "    z_stat, p_val = stats.ranksums(a[field], b[field])  \n",
    "\n",
    "    #print (z_stat)\n",
    "    #print (p_val)\n",
    "\n",
    "    if p_val < (0.05/3): #bonferroni\n",
    "        print (\"reject null of sameness (different)\")\n",
    "    else:\n",
    "        print (\"can't reject null of sameness\")\n",
    "    print \"medians\"\n",
    "    print nameA, a[field].median()\n",
    "    print nameB, b[field].median()\n",
    "\n",
    "def kruskal(a, b, c, field, verbose=False):\n",
    "    x = a[field].dropna()\n",
    "    y = b[field].dropna()\n",
    "    z = c[field].dropna()    \n",
    "\n",
    "    if verbose:\n",
    "        print a[field].describe()\n",
    "        print b[field].describe()\n",
    "        print c[field].describe()\n",
    "        print\n",
    "        print x\n",
    "        print y\n",
    "        print z\n",
    "    \n",
    "    print stats.kruskal(x, y, z)"
   ]
  },
  {
   "cell_type": "code",
   "execution_count": 85,
   "metadata": {
    "collapsed": true
   },
   "outputs": [],
   "source": [
    "## Read and set up the CCE pickle\n",
    "CCE_1step = pd.read_pickle('203_CCE_MutLand_1Step.pd.pickle')\n",
    "#print CCE_1step.describe()\n",
    "#print CCE_1step.head()\n",
    "\n",
    "CCE_equonly = CCE_1step.loc[CCE_1step['Type'] == \"EQU Only\"]\n",
    "\n",
    "CCE_stat = CCE_equonly.loc[CCE_equonly['Environment'] == 'Static\\n(control)']\n",
    "CCE_ben = CCE_equonly.loc[CCE_equonly['Environment'] == 'Benign']\n",
    "CCE_har = CCE_equonly.loc[CCE_equonly['Environment'] == 'Harsh']"
   ]
  },
  {
   "cell_type": "code",
   "execution_count": 86,
   "metadata": {
    "collapsed": true
   },
   "outputs": [],
   "source": [
    "## Read and set up the CCE pickle\n",
    "\n",
    "SCE_1step = pd.read_pickle(\"202_SCE_MutLand_1Step__filtered.pd.pickle\")\n",
    "#print SCE_1step.describe()\n",
    "#print SCE_1step.head()\n",
    "\n",
    "SCE_equonly = SCE_1step.loc[SCE_1step['Type'] == \"EQU Only\"]\n",
    "\n",
    "SCE_stat = SCE_equonly.loc[SCE_equonly['Environment'] == 'Static\\n(control)']\n",
    "SCE_ben = SCE_equonly.loc[SCE_equonly['Environment'] == 'Benign']\n",
    "SCE_har = SCE_equonly.loc[SCE_equonly['Environment'] == 'Harsh']"
   ]
  },
  {
   "cell_type": "code",
   "execution_count": 87,
   "metadata": {},
   "outputs": [
    {
     "name": "stdout",
     "output_type": "stream",
     "text": [
      "\n",
      "Static Env - Cyclic vs Stochastic\n",
      "-----------------\n",
      "RanksumsResult(statistic=0.32021856444479335, pvalue=0.74880265115559008)\n",
      "can't reject null of sameness\n",
      "medians\n",
      "Cyclic 0.137434955617\n",
      "Stochastic 0.138047138047\n",
      "\n",
      "Benign Env - Cyclic vs Stochastic\n",
      "-----------------\n",
      "RanksumsResult(statistic=-2.4179177520083086, pvalue=0.015609604652827416)\n",
      "reject null of sameness (different)\n",
      "medians\n",
      "Cyclic 0.177532904805\n",
      "Stochastic 0.20202020202\n",
      "\n",
      "Harsh Env - Cyclic vs Stochastic\n",
      "-----------------\n",
      "RanksumsResult(statistic=0.95351483233975209, pvalue=0.340329284717792)\n",
      "can't reject null of sameness\n",
      "medians\n",
      "Cyclic 0.217018671564\n",
      "Stochastic 0.198500153046\n"
     ]
    }
   ],
   "source": [
    "mww(CCE_stat, SCE_stat, \"Cyclic\", \"Stochastic\", 'Static Env', 'Fraction')\n",
    "mww(CCE_ben, SCE_ben, \"Cyclic\", \"Stochastic\", 'Benign Env', 'Fraction')\n",
    "mww(CCE_har, SCE_har, \"Cyclic\", \"Stochastic\", 'Harsh Env', 'Fraction')"
   ]
  },
  {
   "cell_type": "code",
   "execution_count": 88,
   "metadata": {},
   "outputs": [
    {
     "name": "stdout",
     "output_type": "stream",
     "text": [
      "\n",
      "Stochastic - Benign vs Harsh\n",
      "-----------------\n",
      "RanksumsResult(statistic=0.076249285166302333, pvalue=0.93922077289161598)\n",
      "can't reject null of sameness\n",
      "medians\n",
      "Benign 0.20202020202\n",
      "Harsh 0.198500153046\n",
      "\n",
      "Stochastic - Static vs Harsh\n",
      "-----------------\n",
      "RanksumsResult(statistic=-5.6959425747407959, pvalue=1.2269217180655923e-08)\n",
      "reject null of sameness (different)\n",
      "medians\n",
      "Static 0.138047138047\n",
      "Harsh 0.198500153046\n"
     ]
    }
   ],
   "source": [
    "mww(SCE_ben, SCE_har, \"Benign\", \"Harsh\", 'Stochastic', 'Fraction')\n",
    "mww(SCE_stat, SCE_har, \"Static\", \"Harsh\", 'Stochastic', 'Fraction')"
   ]
  },
  {
   "cell_type": "code",
   "execution_count": 89,
   "metadata": {},
   "outputs": [
    {
     "name": "stdout",
     "output_type": "stream",
     "text": [
      "\n",
      "Cyclic - Benign vs Harsh\n",
      "-----------------\n",
      "RanksumsResult(statistic=-3.4946504548928154, pvalue=0.00047468298128305788)\n",
      "reject null of sameness (different)\n",
      "medians\n",
      "Benign 0.177532904805\n",
      "Harsh 0.217018671564\n",
      "\n",
      "Cyclic - Static vs Benign\n",
      "-----------------\n",
      "RanksumsResult(statistic=-5.4623329539594403, pvalue=4.6991765180563988e-08)\n",
      "reject null of sameness (different)\n",
      "medians\n",
      "Static 0.137434955617\n",
      "Benign 0.177532904805\n",
      "\n",
      "Cyclic - Static vs Harsh\n",
      "-----------------\n",
      "RanksumsResult(statistic=-7.8033744662949811, pvalue=6.0273359092304226e-15)\n",
      "reject null of sameness (different)\n",
      "medians\n",
      "Static 0.137434955617\n",
      "Harsh 0.217018671564\n"
     ]
    }
   ],
   "source": [
    "mww(CCE_ben, CCE_har, \"Benign\", \"Harsh\", 'Cyclic', 'Fraction')\n",
    "mww(CCE_stat, CCE_ben, \"Static\", \"Benign\", 'Cyclic', 'Fraction')\n",
    "mww(CCE_stat, CCE_har, \"Static\", \"Harsh\", 'Cyclic', 'Fraction')"
   ]
  },
  {
   "cell_type": "markdown",
   "metadata": {},
   "source": [
    "# Stoch Env - 2-Step Regain EQU - Figure 11"
   ]
  },
  {
   "cell_type": "code",
   "execution_count": 77,
   "metadata": {
    "ExecuteTime": {
     "end_time": "2017-01-02T08:35:46.870324",
     "start_time": "2017-01-02T08:35:46.323522"
    },
    "scrolled": false
   },
   "outputs": [
    {
     "data": {
      "image/png": "[encoded data removed]",
      "text/plain": [
       "<matplotlib.figure.Figure at 0x7f6ba5d19f10>"
      ]
     },
     "metadata": {},
     "output_type": "display_data"
    }
   ],
   "source": [
    "subdir = \"../204_StochasticCE__MutLandscape_2ndStep/\"\n",
    "\n",
    "\n",
    "tname = {\"control\": \"Static\\n(control)\",\n",
    "        \"noreward\": \"Benign\",\n",
    "        \"punish\": \"Harsh\"}\n",
    "\n",
    "dfs = []\n",
    "for treatment in treatments:\n",
    "    filepath = data_path + \"/\" + subdir + treatment + \"__mutation_landscape_metrics.csv\"\n",
    "    filepath = filepath.replace(\"\\\\\", \"\")\n",
    "\n",
    "    df = pd.read_csv(filepath, sep=\",\", header=None, usecols=[8],\n",
    "                names=[\"Regained EQU\"],\n",
    "                comment=\"#\",\n",
    "                skip_blank_lines=True,\n",
    "                )\n",
    "    \n",
    "    df = pd.melt(df, value_name=\"Fraction\", var_name=[\"Type\"])\n",
    "    df['Environment'] = [tname[treatment]] * len(df)\n",
    "    dfs.append(df)\n",
    "    \n",
    "combined = pd.concat(dfs)\n",
    "\n",
    "combined.to_pickle(\"204_SCE_MutLand_2Step.pd.pickle\")\n",
    "\n",
    "sns.set(#style=\"whitegrid\", \n",
    "        color_codes=True, \n",
    "        palette=\"colorblind\"\n",
    ")\n",
    "sns.set_context('paper', font_scale=2)\n",
    "g = sns.factorplot(x=\"Environment\", y=\"Fraction\",\n",
    "                   #hue=\"Type\",\n",
    "                   data=combined,\n",
    "                   size=5, aspect=1.5, #\n",
    "                   #palette={\"Regained EQU\": \"b\"},\n",
    "                   kind=\"box\", \n",
    "                   legend=False,\n",
    "                   showfliers=False\n",
    "              )\n",
    "plt.subplots_adjust(top=0.85)\n",
    "\n",
    "titles = [\"Fraction of 2-Step Mutants That Regained EQU\\nStochastic Changing Environment\"]\n",
    "for ax, title in zip(g.axes.flat, titles):\n",
    "    ax.set_title(title)\n"
   ]
  },
  {
   "cell_type": "markdown",
   "metadata": {},
   "source": [
    "# Stats"
   ]
  },
  {
   "cell_type": "code",
   "execution_count": null,
   "metadata": {
    "collapsed": true
   },
   "outputs": [],
   "source": []
  },
  {
   "cell_type": "code",
   "execution_count": 90,
   "metadata": {
    "collapsed": true
   },
   "outputs": [],
   "source": [
    "## Read and set up the CCE pickle\n",
    "CCE_2step = pd.read_pickle('205_CCE_MutLand_2Step.pd.pickle')\n",
    "#print CCE_2step.describe()\n",
    "#print CCE_2step.head()\n",
    "\n",
    "CCE_equonly = CCE_2step.loc[CCE_2step['Type'] == \"Regained EQU\"]\n",
    "\n",
    "CCE_stat = CCE_equonly.loc[CCE_equonly['Environment'] == 'Static\\n(control)']\n",
    "CCE_ben = CCE_equonly.loc[CCE_equonly['Environment'] == 'Benign']\n",
    "CCE_har = CCE_equonly.loc[CCE_equonly['Environment'] == 'Harsh']"
   ]
  },
  {
   "cell_type": "code",
   "execution_count": 91,
   "metadata": {
    "collapsed": true
   },
   "outputs": [],
   "source": [
    "## Read and set up the CCE pickle\n",
    "\n",
    "SCE_2step = pd.read_pickle(\"204_SCE_MutLand_2Step.pd.pickle\")\n",
    "#print SCE_1step.describe()\n",
    "#print SCE_1step.head()\n",
    "\n",
    "SCE_equonly = SCE_2step.loc[SCE_2step['Type'] == \"Regained EQU\"]\n",
    "\n",
    "SCE_stat = SCE_equonly.loc[SCE_equonly['Environment'] == 'Static\\n(control)']\n",
    "SCE_ben = SCE_equonly.loc[SCE_equonly['Environment'] == 'Benign']\n",
    "SCE_har = SCE_equonly.loc[SCE_equonly['Environment'] == 'Harsh']"
   ]
  },
  {
   "cell_type": "code",
   "execution_count": 93,
   "metadata": {},
   "outputs": [
    {
     "name": "stdout",
     "output_type": "stream",
     "text": [
      "\n",
      "Static Env - Cyclic vs Stochastic\n",
      "-----------------\n",
      "RanksumsResult(statistic=4.3601325119134655, pvalue=1.2998370548258283e-05)\n",
      "reject null of sameness (different)\n",
      "medians\n",
      "Cyclic 0.000918273645546\n",
      "Stochastic 0.000612182430364\n",
      "\n",
      "Benign Env - Cyclic vs Stochastic\n",
      "-----------------\n",
      "RanksumsResult(statistic=-18.429226543324006, pvalue=7.6569938414308347e-76)\n",
      "reject null of sameness (different)\n",
      "medians\n",
      "Cyclic 0.0131619222528\n",
      "Stochastic 0.0180593816957\n",
      "\n",
      "Harsh Env - Cyclic vs Stochastic\n",
      "-----------------\n",
      "RanksumsResult(statistic=12.758667957562485, pvalue=2.7892999826827874e-37)\n",
      "reject null of sameness (different)\n",
      "medians\n",
      "Cyclic 0.013468013468\n",
      "Stochastic 0.0104071013162\n"
     ]
    }
   ],
   "source": [
    "mww(CCE_stat, SCE_stat, \"Cyclic\", \"Stochastic\", 'Static Env', 'Fraction')\n",
    "mww(CCE_ben, SCE_ben, \"Cyclic\", \"Stochastic\", 'Benign Env', 'Fraction')\n",
    "mww(CCE_har, SCE_har, \"Cyclic\", \"Stochastic\", 'Harsh Env', 'Fraction')"
   ]
  },
  {
   "cell_type": "code",
   "execution_count": 94,
   "metadata": {},
   "outputs": [
    {
     "name": "stdout",
     "output_type": "stream",
     "text": [
      "\n",
      "Stochastic - Benign vs Harsh\n",
      "-----------------\n",
      "RanksumsResult(statistic=20.164168508623646, pvalue=2.0211557189803541e-90)\n",
      "reject null of sameness (different)\n",
      "medians\n",
      "Benign 0.0180593816957\n",
      "Harsh 0.0104071013162\n",
      "\n",
      "Stochastic - Static vs Benign\n",
      "-----------------\n",
      "RanksumsResult(statistic=-64.421127379370944, pvalue=0.0)\n",
      "reject null of sameness (different)\n",
      "medians\n",
      "Static 0.000612182430364\n",
      "Benign 0.0180593816957\n",
      "\n",
      "Stochastic - Static vs Harsh\n",
      "-----------------\n",
      "RanksumsResult(statistic=-48.669571521911777, pvalue=0.0)\n",
      "reject null of sameness (different)\n",
      "medians\n",
      "Static 0.000612182430364\n",
      "Harsh 0.0104071013162\n"
     ]
    }
   ],
   "source": [
    "mww(SCE_ben, SCE_har, \"Benign\", \"Harsh\", 'Stochastic', 'Fraction')\n",
    "mww(SCE_stat, SCE_ben, \"Static\", \"Benign\", 'Stochastic', 'Fraction')\n",
    "mww(SCE_stat, SCE_har, \"Static\", \"Harsh\", 'Stochastic', 'Fraction')"
   ]
  },
  {
   "cell_type": "code",
   "execution_count": 95,
   "metadata": {},
   "outputs": [
    {
     "name": "stdout",
     "output_type": "stream",
     "text": [
      "\n",
      "Cyclic - Benign vs Harsh\n",
      "-----------------\n",
      "RanksumsResult(statistic=-11.350491485977518, pvalue=7.3746991569147637e-30)\n",
      "reject null of sameness (different)\n",
      "medians\n",
      "Benign 0.0131619222528\n",
      "Harsh 0.013468013468\n",
      "\n",
      "Cyclic - Static vs Benign\n",
      "-----------------\n",
      "RanksumsResult(statistic=-47.900219393560519, pvalue=0.0)\n",
      "reject null of sameness (different)\n",
      "medians\n",
      "Static 0.000918273645546\n",
      "Benign 0.0131619222528\n",
      "\n",
      "Cyclic - Static vs Harsh\n",
      "-----------------\n",
      "RanksumsResult(statistic=-57.822921730422301, pvalue=0.0)\n",
      "reject null of sameness (different)\n",
      "medians\n",
      "Static 0.000918273645546\n",
      "Harsh 0.013468013468\n"
     ]
    }
   ],
   "source": [
    "mww(CCE_ben, CCE_har, \"Benign\", \"Harsh\", 'Cyclic', 'Fraction')\n",
    "mww(CCE_stat, CCE_ben, \"Static\", \"Benign\", 'Cyclic', 'Fraction')\n",
    "mww(CCE_stat, CCE_har, \"Static\", \"Harsh\", 'Cyclic', 'Fraction')"
   ]
  },
  {
   "cell_type": "code",
   "execution_count": null,
   "metadata": {
    "collapsed": true
   },
   "outputs": [],
   "source": []
  }
 ],
 "metadata": {
  "kernelspec": {
   "display_name": "Python 2",
   "language": "python",
   "name": "python2"
  },
  "language_info": {
   "codemirror_mode": {
    "name": "ipython",
    "version": 2
   },
   "file_extension": ".py",
   "mimetype": "text/x-python",
   "name": "python",
   "nbconvert_exporter": "python",
   "pygments_lexer": "ipython2",
   "version": "2.7.13"
  },
  "latex_envs": {
   "bibliofile": "biblio.bib",
   "cite_by": "apalike",
   "current_citInitial": 1,
   "eqLabelWithNumbers": true,
   "eqNumInitial": 0
  }
 },
 "nbformat": 4,
 "nbformat_minor": 1
}
