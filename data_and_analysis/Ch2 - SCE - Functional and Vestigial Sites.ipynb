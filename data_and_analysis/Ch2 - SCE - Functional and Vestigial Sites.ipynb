{
 "cells": [
  {
   "cell_type": "markdown",
   "metadata": {},
   "source": [
    "# Init"
   ]
  },
  {
   "cell_type": "code",
   "execution_count": 16,
   "metadata": {
    "ExecuteTime": {
     "end_time": "2017-04-04T19:57:31.316535",
     "start_time": "2017-04-04T19:57:31.282832"
    }
   },
   "outputs": [
    {
     "name": "stdout",
     "output_type": "stream",
     "text": [
      "/Core/home/rosiec/Dropbox/School_Docs/Papers/Journal\\ CE\\ Paper/data_analysis/raw_data/082_Final\n",
      "/Core/home/rosiec/Dropbox/School_Docs/Papers/Journal\\ CE\\ Paper/data_analysis/intermediate_data\n"
     ]
    }
   ],
   "source": [
    "import collections\n",
    "\n",
    "\n",
    "## Dataset-specific -- edit me\n",
    "data_number = \"082\"\n",
    "data_name = \"Final\"\n",
    "\n",
    "treatments = collections.OrderedDict()\n",
    "treatments['control'] = 'control'\n",
    "treatments['noreward'] = 'benign'\n",
    "treatments['punish'] = 'harsh'\n",
    "\n",
    "## basic config\n",
    "#base_path = \"/home/rosiec/Dropbox/School_Docs/Papers/ALife\\ CE\\ Paper/alife2016/evo_mod/\"\n",
    "#base_path = \"/home/rosiec/Dropbox/School_Docs/Papers/Journal\\ CE\\ Paper/data_analysis/\"\n",
    "base_path = \"/Core/home/rosiec/Dropbox/School_Docs/Papers/Journal\\ CE\\ Paper/data_analysis/\"\n",
    "\n",
    "raw_data_directory = \"raw_data\"\n",
    "analysis_directory = \"intermediate_data\"\n",
    "scripts_path = \"~/Dropbox/School_Docs/Research/research_scripts/\"\n",
    "\n",
    "## generated\n",
    "data_directory = data_number + \"_\" + \"_\".join(data_name.split(\" \"))\n",
    "data_path = base_path + raw_data_directory + \"/\" + data_directory\n",
    "analysis_path = base_path + analysis_directory\n",
    "\n",
    "print (data_path)\n",
    "print (analysis_path)\n",
    "\n"
   ]
  },
  {
   "cell_type": "code",
   "execution_count": 17,
   "metadata": {
    "ExecuteTime": {
     "end_time": "2017-04-04T19:57:38.266236",
     "start_time": "2017-04-04T19:57:38.124323"
    }
   },
   "outputs": [
    {
     "name": "stdout",
     "output_type": "stream",
     "text": [
      "/Core/home/rosiec/Dropbox/School_Docs/Papers/Journal CE Paper/data_analysis/raw_data/082_Final\n",
      "mkdir: cannot create directory ‘/Core/home/rosiec/Dropbox/School_Docs/Papers/Journal CE Paper/data_analysis/intermediate_data’: File exists\n",
      "/Core/home/rosiec/Dropbox/School_Docs/Papers/Journal CE Paper/data_analysis/intermediate_data\n"
     ]
    },
    {
     "data": {
      "text/plain": [
       "u'/Core/home/rosiec/Dropbox/School_Docs/Papers/Journal CE Paper/data_analysis/intermediate_data'"
      ]
     },
     "execution_count": 17,
     "metadata": {},
     "output_type": "execute_result"
    }
   ],
   "source": [
    "%cd {data_path}\n",
    "%mkdir {analysis_path}\n",
    "%cd {analysis_path}\n",
    "%pwd\n"
   ]
  },
  {
   "cell_type": "code",
   "execution_count": 4,
   "metadata": {
    "ExecuteTime": {
     "end_time": "2017-04-04T19:57:53.094903",
     "start_time": "2017-04-04T19:57:49.733207"
    }
   },
   "outputs": [
    {
     "data": {
      "text/plain": [
       "u'0.20.3'"
      ]
     },
     "execution_count": 4,
     "metadata": {},
     "output_type": "execute_result"
    }
   ],
   "source": [
    "import glob\n",
    "\n",
    "\n",
    "import seaborn as sns\n",
    "import pandas as pd\n",
    "import numpy as np\n",
    "import matplotlib.pyplot as plt\n",
    "import scipy  \n",
    "import scikits.bootstrap as bootstrap\n",
    "from scipy import stats\n",
    "import matplotlib.gridspec as gridspec\n",
    "#from IPython.display import Image\n",
    "from PIL import Image\n",
    "from IPython.display import Image as ipyImage\n",
    "\n",
    "%matplotlib inline\n",
    "%rehashx\n",
    "pd.__version__"
   ]
  },
  {
   "cell_type": "code",
   "execution_count": 5,
   "metadata": {
    "ExecuteTime": {
     "end_time": "2017-04-04T19:57:55.040889",
     "start_time": "2017-04-04T19:57:55.006036"
    }
   },
   "outputs": [
    {
     "name": "stdout",
     "output_type": "stream",
     "text": [
      "Usage: quickplot.py [options] outfile [input_file1 column1 \"directory_glob1\" name1 .. input_fileN columnN \"directory_globN\" nameN] \n",
      "          \n",
      "\n",
      "\n",
      "Options:\n",
      "  -h, --help            show this help message and exit\n",
      "  -v, --verbose         print extra messages to stdout\n",
      "  -d, --debug_messages  print debug messages to stdout\n",
      "  --plotonly            Skip the aggregation step, and plot only, using\n",
      "                        existing data files.\n",
      "  --noplot              Skip the plotting step, only aggregate the data files.\n",
      "  -t TITLE, --title=TITLE\n",
      "                        set a different title than outfile (default)\n",
      "  -x XLABEL, --xlabel=XLABEL\n",
      "                        X-axis Label\n",
      "  -y YLABEL, --ylabel=YLABEL\n",
      "                        Y-axis Label\n",
      "  --include_chevrons    Include line marker glyphs in addition to color\n",
      "  --chevrons_by_members\n",
      "                        Make the chevrons track by members, along with line\n",
      "                        style\n",
      "  --data_members=MEMBER_COUNT\n",
      "                        Number of Components from a given data source\n",
      "                        (treatment)\n",
      "  --alt_axis=ALT_AXIS   Use an alternative axis for the Nth data source\n",
      "  -w Y_LABEL_ALT_AXIS, --ylabel_alt_axis=Y_LABEL_ALT_AXIS\n",
      "                        Alternative Y-axis Label\n",
      "  --xtick_multiplier=XTICK_MULTIPLIER\n",
      "                        X-axis Tick Multipliers\n",
      "  --ylog                Y-axis logarithmic scale\n",
      "  --ylim_max=YLIM_MAX   Set the ylim max\n",
      "  --ylim_min=YLIM_MIN   Set the ylim min\n",
      "  --error               include error bars - error values will be calculated\n",
      "                        from data using bootstrap\n",
      "  --samples=SAMPLES     how many samples to draw for bootstrap?\n",
      "  --end_at=END_AT       Stop plotting at datapoint <end_at>\n"
     ]
    }
   ],
   "source": [
    "import sys\n",
    "sys.path.append({scripts_path})\n",
    "%run {scripts_path}/quickplot.py --help"
   ]
  },
  {
   "cell_type": "markdown",
   "metadata": {},
   "source": [
    "# Filtered"
   ]
  },
  {
   "cell_type": "code",
   "execution_count": 31,
   "metadata": {
    "ExecuteTime": {
     "end_time": "2017-04-08T15:42:55.049657",
     "start_time": "2017-04-08T15:42:52.883162"
    },
    "scrolled": false
   },
   "outputs": [
    {
     "data": {
      "image/png": "[encoded data removed]",
      "text/plain": [
       "<matplotlib.figure.Figure at 0x7f5bcdb7fd90>"
      ]
     },
     "metadata": {},
     "output_type": "display_data"
    },
    {
     "data": {
      "image/png": "[encoded data removed]",
      "text/plain": [
       "<matplotlib.figure.Figure at 0x7f5bcdaae050>"
      ]
     },
     "metadata": {},
     "output_type": "display_data"
    }
   ],
   "source": [
    "subdir = \"../200_StochasticCE/\"\n",
    "\n",
    "dfs = []\n",
    "\n",
    "tname = {\"control\": \"Static\\n(control)\",\n",
    "        \"noreward\": \"Benign\",\n",
    "        \"punish\": \"Harsh\"}\n",
    "\n",
    "for treatment in treatments:\n",
    "    filepath = data_path + \"/\" + subdir + \"/*\" + treatment + \"*dominant_active_site_counts__with_task_performance.csv\"\n",
    "    filepath = filepath.replace(\"\\\\\", \"\")\n",
    "    filepath = sorted(glob.glob(filepath))[0]    \n",
    "        \n",
    "    # fluct, bb, both, total, org_id, does_xor, does_equ    \n",
    "    df = pd.read_csv(filepath, sep=\",\", header=None, usecols=[0, 1, 2, 6],comment=\"#\",skip_blank_lines=True,\n",
    "                names=[\"EQU Only\", \"XOR Only\", \"XOR & EQU\", \"Does_EQU\"])\n",
    "    \n",
    "    df = pd.melt(df, id_vars=[\"Does_EQU\"], value_name=\"Sites\", var_name=[\"Type\"])\n",
    "    df['Environment'] = [tname[treatment]] * len(df)\n",
    "    df['Site'] = [\"Active\"] * len(df)\n",
    "    \n",
    "    #print df.head()\n",
    "    \n",
    "    dfs.append(df)\n",
    "    \n",
    "actives = pd.concat(dfs)\n",
    "\n",
    "dfs = []\n",
    "for treatment in treatments:\n",
    "    filepath = data_path + \"/\" + subdir + \"/*\" + treatment + \"*dominant_vestigial_site_counts__with_task_performance.csv\"\n",
    "    filepath = filepath.replace(\"\\\\\", \"\")\n",
    "    filepath = sorted(glob.glob(filepath))[0]\n",
    "            \n",
    "    df = pd.read_csv(filepath, sep=\",\", header=None, usecols=[0, 1, 2, 6],\n",
    "                names=[\"EQU Only\", \"XOR Only\", \"XOR & EQU\", \"Does_EQU\"],\n",
    "                comment=\"#\",\n",
    "                skip_blank_lines=True,\n",
    "                )\n",
    "    df = pd.melt(df, id_vars=[\"Does_EQU\"], value_name=\"Sites\", var_name=[\"Type\"])\n",
    "    df['Environment'] = [tname[treatment]] * len(df)\n",
    "    df['Site'] = [\"Vestigial\"] * len(df)\n",
    "    dfs.append(df)\n",
    "    \n",
    "vestigials = pd.concat(dfs)\n",
    "\n",
    "combined = pd.concat([actives, vestigials])\n",
    "\n",
    "############ NON FILTERED ##################\n",
    "\n",
    "\n",
    "sns.set(#style=\"whitegrid\", \n",
    "        color_codes=True, \n",
    "        palette=\"bright\"\n",
    ")\n",
    "sns.set_context('paper', font_scale=2)\n",
    "g = sns.factorplot(x=\"Environment\", y=\"Sites\",\n",
    "                   hue=\"Type\",\n",
    "                   col=\"Site\",\n",
    "                   data=combined, \n",
    "                   hue_order=[\"XOR Only\", \"EQU Only\", \"XOR & EQU\"],\n",
    "                   size=5, aspect=.75, #\n",
    "                   palette={\"EQU Only\": \"b\", \n",
    "                            \"XOR Only\": \"r\",\n",
    "                            \"XOR & EQU\": \"#89008E\"},\n",
    "                   kind=\"box\", \n",
    "                   legend=False)              \n",
    "\n",
    "plt.subplots_adjust(top=0.85)\n",
    "g.fig.suptitle(\"      Stochastic Changing Environment\") # can also get the figure from plt.gcf()   \n",
    "\n",
    "titles = [\"Functional Site Count\", \"Vestigial Site Count\"]\n",
    "for ax, title in zip(g.axes.flat, titles):\n",
    "    ax.set_title(title)\n",
    "    \n",
    "L=plt.legend(loc=\"upper left\")\n",
    "\n",
    "\n",
    "### filter out\n",
    "plt.show()\n",
    "\n",
    "################# FILTERED ###################\n",
    "\n",
    "filtered = combined.loc[combined[\"Does_EQU\"] == 1]\n",
    "sns.set(#style=\"whitegrid\", \n",
    "        color_codes=True, \n",
    "        palette=\"bright\"\n",
    ")\n",
    "sns.set_context('paper', font_scale=2)\n",
    "g = sns.factorplot(x=\"Environment\", y=\"Sites\",\n",
    "                   hue=\"Type\",\n",
    "                   col=\"Site\",\n",
    "                   data=filtered, \n",
    "                   hue_order=[\"XOR Only\", \"EQU Only\", \"XOR & EQU\"],\n",
    "                   size=5, aspect=.75, #\n",
    "                   palette={\"EQU Only\": \"b\", \n",
    "                            \"XOR Only\": \"r\",\n",
    "                            \"XOR & EQU\": \"#89008E\"},\n",
    "                   kind=\"box\", \n",
    "                   legend=False)              \n",
    "\n",
    "plt.subplots_adjust(top=0.75)\n",
    "g.fig.suptitle(\"      Stochastic Changing Environment\\n      Only EQU-Performing Organisms\") # can also get the figure from plt.gcf()   \n",
    "\n",
    "titles = [\"Functional Site Count\", \"Vestigial Site Count\"]\n",
    "for ax, title in zip(g.axes.flat, titles):\n",
    "    ax.set_title(title)\n",
    "    \n",
    "L=plt.legend(loc=\"upper left\")"
   ]
  },
  {
   "cell_type": "markdown",
   "metadata": {
    "collapsed": true,
    "hidden": true
   },
   "source": [
    "# Stats"
   ]
  },
  {
   "cell_type": "markdown",
   "metadata": {},
   "source": [
    "## Fetch the Cyclic"
   ]
  },
  {
   "cell_type": "code",
   "execution_count": 10,
   "metadata": {},
   "outputs": [
    {
     "name": "stdout",
     "output_type": "stream",
     "text": [
      "/Core/home/rosiec/Dropbox/School_Docs/Papers/Journal CE Paper/data_analysis/raw_data/082_Final/../201_CyclicCE//*control*dominant_active_site_counts.csv\n",
      "/Core/home/rosiec/Dropbox/School_Docs/Papers/Journal CE Paper/data_analysis/raw_data/082_Final/../201_CyclicCE//*noreward*dominant_active_site_counts.csv\n",
      "/Core/home/rosiec/Dropbox/School_Docs/Papers/Journal CE Paper/data_analysis/raw_data/082_Final/../201_CyclicCE//*punish*dominant_active_site_counts.csv\n"
     ]
    }
   ],
   "source": [
    "subdir = \"../201_CyclicCE/\"\n",
    "\n",
    "dfs = []\n",
    "\n",
    "tname = {\"control\": \"Static\\n(control)\",\n",
    "        \"noreward\": \"Benign\",\n",
    "        \"punish\": \"Harsh\"}\n",
    "\n",
    "for treatment in treatments:\n",
    "    filepath = data_path + \"/\" + subdir + \"/*\" + treatment + \"*dominant_active_site_counts.csv\"\n",
    "    filepath = filepath.replace(\"\\\\\", \"\")\n",
    "    print filepath\n",
    "    filepath = sorted(glob.glob(filepath))[0]    \n",
    "        \n",
    "    df = pd.read_csv(filepath, sep=\",\", header=None, usecols=[0, 1, 2],comment=\"#\",skip_blank_lines=True,\n",
    "                names=[\"EQU Only\", \"XOR Only\", \"XOR & EQU\"])\n",
    "    \n",
    "    df = pd.melt(df, value_name=\"Sites\", var_name=[\"Type\"])\n",
    "    df['Environment'] = [tname[treatment]] * len(df)\n",
    "    df['Site'] = [\"Active\"] * len(df)\n",
    "    dfs.append(df)\n",
    "    \n",
    "cyclic_actives = pd.concat(dfs)\n",
    "\n",
    "dfs = []\n",
    "for treatment in treatments:\n",
    "    filepath = data_path + \"/\" + subdir + \"/*\" + treatment + \"*dominant_vestigial_site_counts.csv\"\n",
    "    filepath = filepath.replace(\"\\\\\", \"\")\n",
    "    filepath = sorted(glob.glob(filepath))[0]\n",
    "            \n",
    "    df = pd.read_csv(filepath, sep=\",\", header=None, usecols=[0, 1, 2],\n",
    "                names=[\"EQU Only\", \"XOR Only\", \"XOR & EQU\"],\n",
    "                comment=\"#\",\n",
    "                skip_blank_lines=True,\n",
    "                )\n",
    "    df = pd.melt(df, value_name=\"Sites\", var_name=[\"Type\"])\n",
    "    df['Environment'] = [tname[treatment]] * len(df)\n",
    "    df['Site'] = [\"Vestigial\"] * len(df)\n",
    "    dfs.append(df)\n",
    "    \n",
    "cyclic_vestigials = pd.concat(dfs)\n",
    "\n"
   ]
  },
  {
   "cell_type": "markdown",
   "metadata": {},
   "source": [
    "## Vestigials"
   ]
  },
  {
   "cell_type": "code",
   "execution_count": 23,
   "metadata": {
    "scrolled": false
   },
   "outputs": [
    {
     "name": "stdout",
     "output_type": "stream",
     "text": [
      "       Does_EQU       Sites\n",
      "count     333.0  333.000000\n",
      "mean        1.0    1.054054\n",
      "std         0.0    2.357395\n",
      "min         1.0    0.000000\n",
      "25%         1.0    0.000000\n",
      "50%         1.0    0.000000\n",
      "75%         1.0    1.000000\n",
      "max         1.0   15.000000\n",
      "   Does_EQU      Type  Sites        Environment       Site\n",
      "0         1  EQU Only      1  Static\\n(control)  Vestigial\n",
      "1         1  EQU Only      0  Static\\n(control)  Vestigial\n",
      "2         1  EQU Only      0  Static\\n(control)  Vestigial\n",
      "3         1  EQU Only      0  Static\\n(control)  Vestigial\n",
      "4         1  EQU Only      0  Static\\n(control)  Vestigial\n"
     ]
    }
   ],
   "source": [
    "vest_filtered = filtered.loc[filtered['Site'] == 'Vestigial']\n",
    "print vest_filtered.describe()\n",
    "print vest_filtered.head()"
   ]
  },
  {
   "cell_type": "code",
   "execution_count": 13,
   "metadata": {
    "collapsed": true
   },
   "outputs": [],
   "source": [
    "def mww(a, b, nameA, nameB, title):\n",
    "    print\n",
    "    print title + \" - \" + nameA + \" vs \" + nameB\n",
    "    print \"-----------------\"\n",
    "    print stats.ranksums(a['Sites'], b['Sites']) \n",
    "    z_stat, p_val = stats.ranksums(a['Sites'], b['Sites'])  \n",
    "\n",
    "    #print (z_stat)\n",
    "    #print (p_val)\n",
    "\n",
    "    if p_val < (0.05/3): #bonferroni\n",
    "        print (\"reject null of sameness (different)\")\n",
    "    else:\n",
    "        print (\"can't reject null of sameness\")\n",
    "    print \"medians\"\n",
    "    print a['Sites'].median()\n",
    "    print b['Sites'].median()\n",
    "\n",
    "    "
   ]
  },
  {
   "cell_type": "code",
   "execution_count": 15,
   "metadata": {},
   "outputs": [
    {
     "name": "stdout",
     "output_type": "stream",
     "text": [
      "\n",
      "Static - Stoch vs Cyclic\n",
      "-----------------\n",
      "RanksumsResult(statistic=0.46171048826923694, pvalue=0.64428894872088605)\n",
      "can't reject null of sameness\n",
      "medians\n",
      "0.0\n",
      "0.0\n",
      "\n",
      "Benign - Stoch vs Cyclic\n",
      "-----------------\n",
      "RanksumsResult(statistic=1.4573188488335307, pvalue=0.14502838618903202)\n",
      "can't reject null of sameness\n",
      "medians\n",
      "2.0\n",
      "1.0\n",
      "\n",
      "Harsh - Stoch vs Cyclic\n",
      "-----------------\n",
      "RanksumsResult(statistic=-1.1063216964967635, pvalue=0.26858730412648057)\n",
      "can't reject null of sameness\n",
      "medians\n",
      "7.0\n",
      "8.0\n"
     ]
    }
   ],
   "source": [
    "\n",
    "# Vestigial - Harsh vs Benign - EQU Only\n",
    "equonly = vest_filtered.loc[vest_filtered['Type'] == 'EQU Only']\n",
    "\n",
    "a = equonly.loc[equonly['Environment'] == 'Static\\n(control)']\n",
    "b = equonly.loc[equonly['Environment'] == 'Benign']\n",
    "c = equonly.loc[equonly['Environment'] == 'Harsh']\n",
    "\n",
    "c_equonly = cyclic_vestigials.loc[cyclic_vestigials['Type'] == 'EQU Only']\n",
    "\n",
    "c_a = c_equonly.loc[c_equonly['Environment'] == 'Static\\n(control)']\n",
    "c_b = c_equonly.loc[c_equonly['Environment'] == 'Benign']\n",
    "c_c = c_equonly.loc[c_equonly['Environment'] == 'Harsh']\n",
    "\n",
    "\n",
    "mww(a, c_a, \"Stoch\", \"Cyclic\", \"Static\")\n",
    "mww(b, c_b, \"Stoch\", \"Cyclic\", \"Benign\")\n",
    "mww(c, c_c, \"Stoch\", \"Cyclic\", \"Harsh\")\n",
    "\n"
   ]
  },
  {
   "cell_type": "markdown",
   "metadata": {},
   "source": [
    "## Functional"
   ]
  },
  {
   "cell_type": "code",
   "execution_count": 25,
   "metadata": {},
   "outputs": [
    {
     "name": "stdout",
     "output_type": "stream",
     "text": [
      "       Does_EQU       Sites\n",
      "count     333.0  333.000000\n",
      "mean        1.0    7.723724\n",
      "std         0.0    6.339440\n",
      "min         1.0    0.000000\n",
      "25%         1.0    2.000000\n",
      "50%         1.0    6.000000\n",
      "75%         1.0   14.000000\n",
      "max         1.0   23.000000\n",
      "   Does_EQU      Type  Sites        Environment    Site\n",
      "0         1  EQU Only      4  Static\\n(control)  Active\n",
      "1         1  EQU Only      2  Static\\n(control)  Active\n",
      "2         1  EQU Only      2  Static\\n(control)  Active\n",
      "3         1  EQU Only      2  Static\\n(control)  Active\n",
      "4         1  EQU Only      5  Static\\n(control)  Active\n"
     ]
    }
   ],
   "source": [
    "func_filtered = filtered.loc[filtered['Site'] == 'Active']\n",
    "print func_filtered.describe()\n",
    "print func_filtered.head()"
   ]
  },
  {
   "cell_type": "code",
   "execution_count": 27,
   "metadata": {},
   "outputs": [
    {
     "name": "stdout",
     "output_type": "stream",
     "text": [
      "\n",
      "Static - Stoch vs Cyclic\n",
      "-----------------\n",
      "RanksumsResult(statistic=0.37979411131824331, pvalue=0.7040982538952929)\n",
      "can't reject null of sameness\n",
      "medians\n",
      "2.0\n",
      "2.0\n",
      "\n",
      "Benign - Stoch vs Cyclic\n",
      "-----------------\n",
      "RanksumsResult(statistic=1.7200467539753503, pvalue=0.085423943269216096)\n",
      "can't reject null of sameness\n",
      "medians\n",
      "6.0\n",
      "6.0\n",
      "\n",
      "Harsh - Stoch vs Cyclic\n",
      "-----------------\n",
      "RanksumsResult(statistic=0.66012565315828986, pvalue=0.50917319758572077)\n",
      "can't reject null of sameness\n",
      "medians\n",
      "9.5\n",
      "8.0\n"
     ]
    }
   ],
   "source": [
    "\n",
    "# Active - Harsh vs Benign - EQU Only\n",
    "equonly = func_filtered.loc[func_filtered['Type'] == 'EQU Only']\n",
    "\n",
    "a = equonly.loc[equonly['Environment'] == 'Static\\n(control)']\n",
    "b = equonly.loc[equonly['Environment'] == 'Benign']\n",
    "c = equonly.loc[equonly['Environment'] == 'Harsh']\n",
    "\n",
    "c_equonly = cyclic_actives.loc[cyclic_actives['Type'] == 'EQU Only']\n",
    "\n",
    "c_a = c_equonly.loc[c_equonly['Environment'] == 'Static\\n(control)']\n",
    "c_b = c_equonly.loc[c_equonly['Environment'] == 'Benign']\n",
    "c_c = c_equonly.loc[c_equonly['Environment'] == 'Harsh']\n",
    "\n",
    "\n",
    "mww(a, c_a, \"Stoch\", \"Cyclic\", \"Static\")\n",
    "mww(b, c_b, \"Stoch\", \"Cyclic\", \"Benign\")\n",
    "mww(c, c_c, \"Stoch\", \"Cyclic\", \"Harsh\")\n",
    "\n"
   ]
  },
  {
   "cell_type": "code",
   "execution_count": 29,
   "metadata": {},
   "outputs": [
    {
     "name": "stdout",
     "output_type": "stream",
     "text": [
      "\n",
      "Static - Stoch vs Cyclic\n",
      "-----------------\n",
      "RanksumsResult(statistic=-0.64416060056917734, pvalue=0.51947129679177517)\n",
      "can't reject null of sameness\n",
      "medians\n",
      "16.0\n",
      "16.0\n",
      "\n",
      "Benign - Stoch vs Cyclic\n",
      "-----------------\n",
      "RanksumsResult(statistic=0.73481710969352676, pvalue=0.46245088549731705)\n",
      "can't reject null of sameness\n",
      "medians\n",
      "16.0\n",
      "16.0\n",
      "\n",
      "Harsh - Stoch vs Cyclic\n",
      "-----------------\n",
      "RanksumsResult(statistic=-3.0500250085739506, pvalue=0.0022882231158782369)\n",
      "reject null of sameness (different)\n",
      "medians\n",
      "14.0\n",
      "16.0\n"
     ]
    }
   ],
   "source": [
    "\n",
    "# Active - Harsh vs Benign - XOR & EQU\n",
    "equonly = func_filtered.loc[func_filtered['Type'] == 'XOR & EQU']\n",
    "\n",
    "a = equonly.loc[equonly['Environment'] == 'Static\\n(control)']\n",
    "b = equonly.loc[equonly['Environment'] == 'Benign']\n",
    "c = equonly.loc[equonly['Environment'] == 'Harsh']\n",
    "\n",
    "c_equonly = cyclic_actives.loc[cyclic_actives['Type'] == 'XOR & EQU']\n",
    "\n",
    "c_a = c_equonly.loc[c_equonly['Environment'] == 'Static\\n(control)']\n",
    "c_b = c_equonly.loc[c_equonly['Environment'] == 'Benign']\n",
    "c_c = c_equonly.loc[c_equonly['Environment'] == 'Harsh']\n",
    "\n",
    "\n",
    "mww(a, c_a, \"Stoch\", \"Cyclic\", \"Static\")\n",
    "mww(b, c_b, \"Stoch\", \"Cyclic\", \"Benign\")\n",
    "mww(c, c_c, \"Stoch\", \"Cyclic\", \"Harsh\")\n",
    "\n"
   ]
  },
  {
   "cell_type": "code",
   "execution_count": null,
   "metadata": {
    "collapsed": true
   },
   "outputs": [],
   "source": []
  }
 ],
 "metadata": {
  "kernelspec": {
   "display_name": "Python 2",
   "language": "python",
   "name": "python2"
  },
  "language_info": {
   "codemirror_mode": {
    "name": "ipython",
    "version": 2
   },
   "file_extension": ".py",
   "mimetype": "text/x-python",
   "name": "python",
   "nbconvert_exporter": "python",
   "pygments_lexer": "ipython2",
   "version": "2.7.13"
  },
  "latex_envs": {
   "bibliofile": "biblio.bib",
   "cite_by": "apalike",
   "current_citInitial": 1,
   "eqLabelWithNumbers": true,
   "eqNumInitial": 0
  }
 },
 "nbformat": 4,
 "nbformat_minor": 1
}
