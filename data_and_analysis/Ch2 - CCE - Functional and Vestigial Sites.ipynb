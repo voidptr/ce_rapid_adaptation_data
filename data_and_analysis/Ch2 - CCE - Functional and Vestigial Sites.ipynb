{
 "cells": [
  {
   "cell_type": "markdown",
   "metadata": {
    "heading_collapsed": true
   },
   "source": [
    "# Init"
   ]
  },
  {
   "cell_type": "code",
   "execution_count": 3,
   "metadata": {
    "ExecuteTime": {
     "end_time": "2016-12-29T22:11:09.436043",
     "start_time": "2016-12-29T22:11:09.413508"
    },
    "hidden": true
   },
   "outputs": [
    {
     "name": "stdout",
     "output_type": "stream",
     "text": [
      "/Core/home/rosiec/Dropbox/School_Docs/Papers/Journal_CE_Paper/data_analysis/raw_data/082_Final\n",
      "/Core/home/rosiec/Dropbox/School_Docs/Papers/Journal_CE_Paper/data_analysis/intermediate_data\n"
     ]
    }
   ],
   "source": [
    "import collections\n",
    "\n",
    "\n",
    "## Dataset-specific -- edit me\n",
    "data_number = \"082\"\n",
    "data_name = \"Final\"\n",
    "\n",
    "treatments = collections.OrderedDict()\n",
    "treatments['control'] = 'control'\n",
    "treatments['noreward'] = 'benign'\n",
    "treatments['punish'] = 'harsh'\n",
    "\n",
    "## basic config\n",
    "#base_path = \"/home/rosiec/Dropbox/School_Docs/Papers/ALife\\ CE\\ Paper/alife2016/evo_mod/\"\n",
    "#base_path = \"/home/rosiec/Dropbox/School_Docs/Papers/Journal\\ CE\\ Paper/data_analysis/\"\n",
    "base_path = \"/Core/home/rosiec/Dropbox/School_Docs/Papers/Journal_CE_Paper/data_analysis/\"\n",
    "#base_path = \"/Core/home/rosiec/__research/mutational_landscapes/\"\n",
    "raw_data_directory = \"raw_data\"\n",
    "analysis_directory = \"intermediate_data\"\n",
    "scripts_path = \"~/Dropbox/School_Docs/Research/research_scripts/\"\n",
    "\n",
    "## generated\n",
    "data_directory = data_number + \"_\" + \"_\".join(data_name.split(\" \"))\n",
    "data_path = base_path + raw_data_directory + \"/\" + data_directory\n",
    "analysis_path = base_path + analysis_directory\n",
    "\n",
    "print (data_path)\n",
    "print (analysis_path)\n",
    "\n"
   ]
  },
  {
   "cell_type": "code",
   "execution_count": 4,
   "metadata": {
    "ExecuteTime": {
     "end_time": "2016-12-29T22:11:11.416343",
     "start_time": "2016-12-29T22:11:11.268301"
    },
    "hidden": true
   },
   "outputs": [
    {
     "name": "stdout",
     "output_type": "stream",
     "text": [
      "/Core/home/rosiec/Dropbox/School_Docs/Papers/Journal_CE_Paper/data_analysis/raw_data/082_Final\n",
      "mkdir: cannot create directory ‘/Core/home/rosiec/Dropbox/School_Docs/Papers/Journal_CE_Paper/data_analysis/intermediate_data’: File exists\n",
      "/Core/home/rosiec/Dropbox/School_Docs/Papers/Journal_CE_Paper/data_analysis/intermediate_data\n"
     ]
    },
    {
     "data": {
      "text/plain": [
       "u'/Core/home/rosiec/Dropbox/School_Docs/Papers/Journal_CE_Paper/data_analysis/intermediate_data'"
      ]
     },
     "execution_count": 4,
     "metadata": {},
     "output_type": "execute_result"
    }
   ],
   "source": [
    "%cd {data_path}\n",
    "%mkdir {analysis_path}\n",
    "%cd {analysis_path}\n",
    "%pwd\n"
   ]
  },
  {
   "cell_type": "code",
   "execution_count": 5,
   "metadata": {
    "ExecuteTime": {
     "end_time": "2016-12-29T22:11:15.188798",
     "start_time": "2016-12-29T22:11:13.837661"
    },
    "hidden": true
   },
   "outputs": [
    {
     "data": {
      "text/plain": [
       "u'0.20.3'"
      ]
     },
     "execution_count": 5,
     "metadata": {},
     "output_type": "execute_result"
    }
   ],
   "source": [
    "import glob\n",
    "\n",
    "\n",
    "import seaborn as sns\n",
    "import pandas as pd\n",
    "import numpy as np\n",
    "import matplotlib.pyplot as plt\n",
    "import scipy  \n",
    "import scikits.bootstrap as bootstrap\n",
    "from scipy import stats\n",
    "import matplotlib.gridspec as gridspec\n",
    "#from IPython.display import Image\n",
    "from PIL import Image\n",
    "from IPython.display import Image as ipyImage\n",
    "\n",
    "%matplotlib inline\n",
    "%rehashx\n",
    "pd.__version__"
   ]
  },
  {
   "cell_type": "code",
   "execution_count": 6,
   "metadata": {
    "ExecuteTime": {
     "end_time": "2016-12-29T22:11:16.032935",
     "start_time": "2016-12-29T22:11:15.999395"
    },
    "hidden": true
   },
   "outputs": [
    {
     "name": "stdout",
     "output_type": "stream",
     "text": [
      "Usage: quickplot.py [options] outfile [input_file1 column1 \"directory_glob1\" name1 .. input_fileN columnN \"directory_globN\" nameN] \n",
      "          \n",
      "\n",
      "\n",
      "Options:\n",
      "  -h, --help            show this help message and exit\n",
      "  -v, --verbose         print extra messages to stdout\n",
      "  -d, --debug_messages  print debug messages to stdout\n",
      "  --plotonly            Skip the aggregation step, and plot only, using\n",
      "                        existing data files.\n",
      "  --noplot              Skip the plotting step, only aggregate the data files.\n",
      "  -t TITLE, --title=TITLE\n",
      "                        set a different title than outfile (default)\n",
      "  -x XLABEL, --xlabel=XLABEL\n",
      "                        X-axis Label\n",
      "  -y YLABEL, --ylabel=YLABEL\n",
      "                        Y-axis Label\n",
      "  --include_chevrons    Include line marker glyphs in addition to color\n",
      "  --chevrons_by_members\n",
      "                        Make the chevrons track by members, along with line\n",
      "                        style\n",
      "  --data_members=MEMBER_COUNT\n",
      "                        Number of Components from a given data source\n",
      "                        (treatment)\n",
      "  --alt_axis=ALT_AXIS   Use an alternative axis for the Nth data source\n",
      "  -w Y_LABEL_ALT_AXIS, --ylabel_alt_axis=Y_LABEL_ALT_AXIS\n",
      "                        Alternative Y-axis Label\n",
      "  --xtick_multiplier=XTICK_MULTIPLIER\n",
      "                        X-axis Tick Multipliers\n",
      "  --ylog                Y-axis logarithmic scale\n",
      "  --ylim_max=YLIM_MAX   Set the ylim max\n",
      "  --ylim_min=YLIM_MIN   Set the ylim min\n",
      "  --error               include error bars - error values will be calculated\n",
      "                        from data using bootstrap\n",
      "  --samples=SAMPLES     how many samples to draw for bootstrap?\n",
      "  --end_at=END_AT       Stop plotting at datapoint <end_at>\n"
     ]
    }
   ],
   "source": [
    "import sys\n",
    "sys.path.append({scripts_path})\n",
    "%run {scripts_path}/quickplot.py --help"
   ]
  },
  {
   "cell_type": "markdown",
   "metadata": {
    "heading_collapsed": true
   },
   "source": [
    "# Functional vs Vestigial Sites - Figure 5"
   ]
  },
  {
   "cell_type": "code",
   "execution_count": 17,
   "metadata": {
    "ExecuteTime": {
     "end_time": "2017-01-02T08:30:07.317237",
     "start_time": "2017-01-02T08:30:06.227707"
    },
    "hidden": true,
    "scrolled": false
   },
   "outputs": [
    {
     "name": "stdout",
     "output_type": "stream",
     "text": [
      "/Core/home/rosiec/Dropbox/School_Docs/Papers/Journal_CE_Paper/data_analysis/raw_data/082_Final/../201_CyclicCE//*control*dominant_active_site_counts.csv\n",
      "/Core/home/rosiec/Dropbox/School_Docs/Papers/Journal_CE_Paper/data_analysis/raw_data/082_Final/../201_CyclicCE//*noreward*dominant_active_site_counts.csv\n",
      "/Core/home/rosiec/Dropbox/School_Docs/Papers/Journal_CE_Paper/data_analysis/raw_data/082_Final/../201_CyclicCE//*punish*dominant_active_site_counts.csv\n"
     ]
    },
    {
     "data": {
      "image/png": "[encoded data removed]",
      "text/plain": [
       "<matplotlib.figure.Figure at 0x7fb042803890>"
      ]
     },
     "metadata": {},
     "output_type": "display_data"
    }
   ],
   "source": [
    "subdir = \"../201_CyclicCE/\"\n",
    "\n",
    "dfs = []\n",
    "\n",
    "tname = {\"control\": \"Static\\n(control)\",\n",
    "        \"noreward\": \"Benign\",\n",
    "        \"punish\": \"Harsh\"}\n",
    "\n",
    "for treatment in treatments:\n",
    "    filepath = data_path + \"/\" + subdir + \"/*\" + treatment + \"*dominant_active_site_counts.csv\"\n",
    "    filepath = filepath.replace(\"\\\\\", \"\")\n",
    "    print filepath\n",
    "    filepath = sorted(glob.glob(filepath))[0]    \n",
    "        \n",
    "    df = pd.read_csv(filepath, sep=\",\", header=None, usecols=[0, 1, 2],comment=\"#\",skip_blank_lines=True,\n",
    "                names=[\"EQU Only\", \"XOR Only\", \"XOR & EQU\"])\n",
    "    \n",
    "    df = pd.melt(df, value_name=\"Sites\", var_name=[\"Type\"])\n",
    "    df['Environment'] = [tname[treatment]] * len(df)\n",
    "    df['Site'] = [\"Active\"] * len(df)\n",
    "    dfs.append(df)\n",
    "    \n",
    "actives = pd.concat(dfs)\n",
    "\n",
    "dfs = []\n",
    "for treatment in treatments:\n",
    "    filepath = data_path + \"/\" + subdir + \"/*\" + treatment + \"*dominant_vestigial_site_counts.csv\"\n",
    "    filepath = filepath.replace(\"\\\\\", \"\")\n",
    "    filepath = sorted(glob.glob(filepath))[0]\n",
    "            \n",
    "    df = pd.read_csv(filepath, sep=\",\", header=None, usecols=[0, 1, 2],\n",
    "                names=[\"EQU Only\", \"XOR Only\", \"XOR & EQU\"],\n",
    "                comment=\"#\",\n",
    "                skip_blank_lines=True,\n",
    "                )\n",
    "    df = pd.melt(df, value_name=\"Sites\", var_name=[\"Type\"])\n",
    "    df['Environment'] = [tname[treatment]] * len(df)\n",
    "    df['Site'] = [\"Vestigial\"] * len(df)\n",
    "    dfs.append(df)\n",
    "    \n",
    "vestigials = pd.concat(dfs)\n",
    "\n",
    "combined = pd.concat([actives, vestigials])\n",
    "\n",
    "sns.set(#style=\"whitegrid\", \n",
    "        color_codes=True, \n",
    "        palette=\"bright\"\n",
    ")\n",
    "sns.set_context('paper', font_scale=2)\n",
    "g = sns.factorplot(x=\"Environment\", y=\"Sites\",\n",
    "                   hue=\"Type\",\n",
    "                   col=\"Site\",\n",
    "                   data=combined, \n",
    "                   hue_order=[\"XOR Only\", \"EQU Only\", \"XOR & EQU\"],\n",
    "                   size=5, aspect=.75, #\n",
    "                   palette={\"EQU Only\": \"b\", \n",
    "                            \"XOR Only\": \"r\",\n",
    "                            \"XOR & EQU\": \"#89008E\"},\n",
    "                   kind=\"box\", \n",
    "                   legend=False)        \n",
    "\n",
    "plt.subplots_adjust(top=0.85)\n",
    "g.fig.suptitle(\"       Cyclic Changing Environment\") # can also get the figure from plt.gcf()   \n",
    "\n",
    "titles = [\"Functional Site Count\", \"Vestigial Site Count\"]\n",
    "for ax, title in zip(g.axes.flat, titles):\n",
    "    ax.set_title(title)\n",
    "    \n",
    "L=plt.legend(loc=\"upper left\")\n",
    "\n",
    "!pwd\n",
    "plt.savefig(\"CCE_func_vest__box.png\", dpi=300)\n",
    "\n",
    "#plt.subplots_adjust(top=0.85)\n",
    "#g.fig.suptitle(\"       Cyclic Changing Environment\") # can also get the figure from plt.gcf()   "
   ]
  },
  {
   "cell_type": "markdown",
   "metadata": {
    "collapsed": true
   },
   "source": [
    "# Stats"
   ]
  },
  {
   "cell_type": "code",
   "execution_count": 8,
   "metadata": {
    "collapsed": true
   },
   "outputs": [],
   "source": [
    "def mww(a, b, nameA, nameB, title, field):\n",
    "    print\n",
    "    print title + \" - \" + nameA + \" vs \" + nameB\n",
    "    print \"-----------------\"\n",
    "    print stats.ranksums(a[field], b[field]) \n",
    "    z_stat, p_val = stats.ranksums(a[field], b[field])  \n",
    "\n",
    "    if p_val < 0.00001:\n",
    "        p_text = \" $<<$ 0.001\"\n",
    "    elif p_val < 0.001:\n",
    "        p_text = \" < 0.001\"\n",
    "    elif p_val < 0.01:\n",
    "        p_text = \" < 0.01\"        \n",
    "    elif p_val < 0.05:\n",
    "        p_text = \" $<$ 0.05\"\n",
    "    else:\n",
    "        p_text = \" = \" + str(round(p_val, 2))\n",
    "        \n",
    "    #print (z_stat)\n",
    "    #print (p_val)\n",
    "\n",
    "    if p_val < (0.05/3): #bonferroni\n",
    "        print (\"reject null of sameness (different)\")\n",
    "    else:\n",
    "        print (\"can't reject null of sameness\")\n",
    "    print \"medians\"\n",
    "    print nameA, a[field].median()\n",
    "    print nameB, b[field].median()\n",
    "    \n",
    "    print \"(Wilcoxon Rank Sum Test: Z = \" + str(round(z_stat, 2)) + \", p\" + p_text + \")\"\n",
    "\n",
    "def kruskal(a, b, c, field=None, verbose=False):\n",
    "    x = a[field].dropna()\n",
    "    y = b[field].dropna()\n",
    "    z = c[field].dropna()    \n",
    "\n",
    "    if verbose:\n",
    "        print a[field].describe()\n",
    "        print b[field].describe()\n",
    "        print c[field].describe()\n",
    "        print\n",
    "        print x\n",
    "        print y\n",
    "        print z\n",
    "    \n",
    "    print stats.kruskal(x, y, z)\n",
    "    \n",
    "def medianCI(data, ci=0.95, p=0.5):    \n",
    "    '''\n",
    "    From https://github.com/minddrummer/median-confidence-interval/blob/master/Median_CI.py\n",
    "    data: pandas datafame/series or numpy array\n",
    "    ci: confidence level\n",
    "    p: percentile' percent, for median it is 0.5\n",
    "    output: a list with two elements, [lowerBound, upperBound]\n",
    "    '''\n",
    "    if type(data) is pd.Series or type(data) is pd.DataFrame:\n",
    "        #transfer data into np.array\n",
    "        data = data.values\n",
    "\n",
    "    #flat to one dimension array\n",
    "    data = data.reshape(-1)\n",
    "    data = np.sort(data)\n",
    "    N = data.shape[0]\n",
    "    \n",
    "    lowCount, upCount = stats.binom.interval(ci, N, p, loc=0)\n",
    "    #given this: https://onlinecourses.science.psu.edu/stat414/node/316\n",
    "    #lowCount and upCount both refers to  W's value, W follows binomial Dis.\n",
    "    #lowCount need to change to lowCount-1, upCount no need to change in python indexing\n",
    "    lowCount -= 1\n",
    "    # print lowCount, upCount\n",
    "    return data[int(lowCount)], data[int(upCount)]  \n",
    "\n",
    "def doCI(data):\n",
    "    \n",
    "    low, high = medianCI(data)\n",
    "    \n",
    "    med = data.median()\n",
    "    \n",
    "    print \"(Mdn = \" +str(round(med, 2))+ \", CI 95\\% [\" + str(round(low, 2)) + \", \" + str(round(high, 2)) + \"])\"\n",
    "    print \" --- (Mdn = \" +str(round(med, 4))+ \", CI 95\\% [\" + str(round(low, 4)) + \", \" + str(round(high, 4)) + \"])\"\n",
    "    \n",
    "def corr(a, b, nameA, nameB, title, fieldA, fieldB):\n",
    "    print\n",
    "    print title + \" - \" + nameA + \" vs \" + nameB\n",
    "    print \"-----------------\"\n",
    "#     print stats.ranksums(a[field], b[field]) \n",
    "#     z_stat, p_val = stats.ranksums(a[field], b[field])  \n",
    "    \n",
    "    correlation = ss.pearsonr(a[fieldA], b[fieldB])\n",
    "\n",
    "    from decimal import Decimal\n",
    "\n",
    "    #r2 = '%.2E' % Decimal(correlation[0])\n",
    "    p = '%.2E' % Decimal(correlation[1])\n",
    "    \n",
    "    p_val = correlation[1]\n",
    "\n",
    "    #ann = \"$r_{2}$ = \" + str(round(correlation[0], 2)) + \"\\n\" + \"$p$ = \" + p\n",
    "\n",
    "    if p_val < 0.00001:\n",
    "        p_text = \" $<<$ 0.001\"\n",
    "    elif p_val < 0.001:\n",
    "        p_text = \" < 0.001\"\n",
    "    elif p_val < 0.01:\n",
    "        p_text = \" < 0.01\"        \n",
    "    elif p_val < 0.05:\n",
    "        p_text = \" $<$ 0.05\"\n",
    "    else:\n",
    "        p_text = \" = \" + str(round(p_val, 2))\n",
    "        \n",
    "    print \"(Pearson's R: $r_{2}$ = \" + str(round(correlation[0], 2)) + \", p = \" + p_text + \")\"   \n",
    "        \n",
    "    #print (z_stat)\n",
    "    #print (p_val)\n",
    "\n",
    "#     if p_val < (0.05/3): #bonferroni\n",
    "#         print (\"reject null of sameness (different)\")\n",
    "#     else:\n",
    "#         print (\"can't reject null of sameness\")\n",
    "    print \"medians\"\n",
    "    print nameA, a[fieldA].median()\n",
    "    print nameB, b[fieldB].median()\n",
    "    \n",
    "#    print \"(Wilcoxon Rank Sum Test: Z = \" + str(round(z_stat, 2)) + \", p\" + p_text + \")\""
   ]
  },
  {
   "cell_type": "markdown",
   "metadata": {},
   "source": [
    "## Vestigials"
   ]
  },
  {
   "cell_type": "code",
   "execution_count": 9,
   "metadata": {
    "scrolled": true
   },
   "outputs": [
    {
     "name": "stdout",
     "output_type": "stream",
     "text": [
      "            Sites\n",
      "count  435.000000\n",
      "mean     1.487356\n",
      "std      3.455004\n",
      "min      0.000000\n",
      "25%      0.000000\n",
      "50%      0.000000\n",
      "75%      1.000000\n",
      "max     23.000000\n",
      "       Type  Sites        Environment       Site\n",
      "0  EQU Only      0  Static\\n(control)  Vestigial\n",
      "1  EQU Only      0  Static\\n(control)  Vestigial\n",
      "2  EQU Only      0  Static\\n(control)  Vestigial\n",
      "3  EQU Only      0  Static\\n(control)  Vestigial\n",
      "4  EQU Only      0  Static\\n(control)  Vestigial\n"
     ]
    }
   ],
   "source": [
    "print vestigials.describe()\n",
    "print vestigials.head()"
   ]
  },
  {
   "cell_type": "code",
   "execution_count": 10,
   "metadata": {},
   "outputs": [
    {
     "name": "stdout",
     "output_type": "stream",
     "text": [
      "\n",
      "Static vs Harsh\n",
      "-----------------\n",
      "RanksumsResult(statistic=-8.3317643965239228, pvalue=7.9646329857218437e-17)\n",
      "reject null of sameness (different)\n",
      "medians\n",
      "0.0\n",
      "8.0\n",
      "\n",
      "Benign vs Harsh\n",
      "-----------------\n",
      "RanksumsResult(statistic=-6.5712629749925764, pvalue=4.989025587170041e-11)\n",
      "reject null of sameness (different)\n",
      "medians\n",
      "1.0\n",
      "8.0\n"
     ]
    }
   ],
   "source": [
    "# Vestigial - Harsh vs Benign - EQU Only\n",
    "equonly = vestigials.loc[vestigials['Type'] == 'EQU Only']\n",
    "\n",
    "a = equonly.loc[equonly['Environment'] == 'Static\\n(control)']\n",
    "b = equonly.loc[equonly['Environment'] == 'Benign']\n",
    "c = equonly.loc[equonly['Environment'] == 'Harsh']\n",
    "\n",
    "print\n",
    "print \"Static vs Harsh\"\n",
    "print \"-----------------\"\n",
    "print stats.ranksums(a['Sites'], c['Sites']) \n",
    "z_stat, p_val = stats.ranksums(a['Sites'], c['Sites'])  \n",
    "\n",
    "#print (z_stat)\n",
    "#print (p_val)\n",
    "\n",
    "if p_val < (0.05/3): #bonferroni\n",
    "    print (\"reject null of sameness (different)\")\n",
    "else:\n",
    "    print (\"can't reject null of sameness\")\n",
    "print \"medians\"\n",
    "print a['Sites'].median()\n",
    "print c['Sites'].median()\n",
    "\n",
    "print\n",
    "print \"Benign vs Harsh\"\n",
    "print \"-----------------\"\n",
    "print stats.ranksums(b['Sites'], c['Sites']) \n",
    "z_stat, p_val = stats.ranksums(b['Sites'], c['Sites'])  \n",
    "\n",
    "#print (z_stat)\n",
    "#print (p_val)\n",
    "\n",
    "if p_val < (0.05/3): #bonferroni\n",
    "    print (\"reject null of sameness (different)\")\n",
    "else:\n",
    "    print (\"can't reject null of sameness\")\n",
    "print \"medians\"\n",
    "print b['Sites'].median()\n",
    "print c['Sites'].median()"
   ]
  },
  {
   "cell_type": "code",
   "execution_count": 11,
   "metadata": {},
   "outputs": [
    {
     "name": "stdout",
     "output_type": "stream",
     "text": [
      "KruskalResult(statistic=7493.8392338445101, pvalue=0.0)\n"
     ]
    },
    {
     "name": "stderr",
     "output_type": "stream",
     "text": [
      "/usr/local/lib/python2.7/dist-packages/scipy/stats/stats.py:253: RuntimeWarning: The input array could not be properly checked for nan values. nan values will be ignored.\n",
      "  \"values. nan values will be ignored.\", RuntimeWarning)\n"
     ]
    }
   ],
   "source": [
    "print stats.kruskal(a,b,c)"
   ]
  },
  {
   "cell_type": "code",
   "execution_count": null,
   "metadata": {
    "collapsed": true
   },
   "outputs": [],
   "source": []
  },
  {
   "cell_type": "markdown",
   "metadata": {},
   "source": [
    "## Function Sites"
   ]
  },
  {
   "cell_type": "code",
   "execution_count": 12,
   "metadata": {
    "scrolled": true
   },
   "outputs": [
    {
     "name": "stdout",
     "output_type": "stream",
     "text": [
      "            Sites\n",
      "count  435.000000\n",
      "mean     7.797701\n",
      "std      6.455127\n",
      "min      0.000000\n",
      "25%      2.000000\n",
      "50%      5.000000\n",
      "75%     15.000000\n",
      "max     28.000000\n",
      "       Type  Sites        Environment    Site\n",
      "0  EQU Only      4  Static\\n(control)  Active\n",
      "1  EQU Only      4  Static\\n(control)  Active\n",
      "2  EQU Only      1  Static\\n(control)  Active\n",
      "3  EQU Only      2  Static\\n(control)  Active\n",
      "4  EQU Only      2  Static\\n(control)  Active\n"
     ]
    }
   ],
   "source": [
    "print actives.describe()\n",
    "print actives.head()"
   ]
  },
  {
   "cell_type": "code",
   "execution_count": 13,
   "metadata": {},
   "outputs": [
    {
     "name": "stdout",
     "output_type": "stream",
     "text": [
      "\n",
      "Static vs Harsh\n",
      "-----------------\n",
      "RanksumsResult(statistic=-6.9600501405653441, pvalue=3.4015165249764199e-12)\n",
      "reject null of sameness (different)\n",
      "medians\n",
      "2.0\n",
      "8.0\n",
      "\n",
      "Benign vs Harsh\n",
      "-----------------\n",
      "RanksumsResult(statistic=-3.0546105235317054, pvalue=0.0022535296365660622)\n",
      "reject null of sameness (different)\n",
      "medians\n",
      "6.0\n",
      "8.0\n"
     ]
    }
   ],
   "source": [
    "# Functional - Harsh vs Benign - EQU Only\n",
    "equonly = actives.loc[actives['Type'] == 'EQU Only']\n",
    "\n",
    "a = equonly.loc[equonly['Environment'] == 'Static\\n(control)']\n",
    "b = equonly.loc[equonly['Environment'] == 'Benign']\n",
    "c = equonly.loc[equonly['Environment'] == 'Harsh']\n",
    "\n",
    "print\n",
    "print \"Static vs Harsh\"\n",
    "print \"-----------------\"\n",
    "print stats.ranksums(a['Sites'], c['Sites']) \n",
    "z_stat, p_val = stats.ranksums(a['Sites'], c['Sites'])  \n",
    "\n",
    "#print (z_stat)\n",
    "#print (p_val)\n",
    "\n",
    "if p_val < (0.05/3): #bonferroni\n",
    "    print (\"reject null of sameness (different)\")\n",
    "else:\n",
    "    print (\"can't reject null of sameness\")\n",
    "print \"medians\"\n",
    "print a['Sites'].median()\n",
    "print c['Sites'].median()\n",
    "\n",
    "print\n",
    "print \"Benign vs Harsh\"\n",
    "print \"-----------------\"\n",
    "print stats.ranksums(b['Sites'], c['Sites']) \n",
    "z_stat, p_val = stats.ranksums(b['Sites'], c['Sites'])  \n",
    "\n",
    "#print (z_stat)\n",
    "#print (p_val)\n",
    "\n",
    "if p_val < (0.05/3): #bonferroni\n",
    "    print (\"reject null of sameness (different)\")\n",
    "else:\n",
    "    print (\"can't reject null of sameness\")\n",
    "print \"medians\"\n",
    "print b['Sites'].median()\n",
    "print c['Sites'].median()"
   ]
  },
  {
   "cell_type": "code",
   "execution_count": 14,
   "metadata": {},
   "outputs": [
    {
     "name": "stdout",
     "output_type": "stream",
     "text": [
      "\n",
      "Sites - static vs benign\n",
      "-----------------\n",
      "RanksumsResult(statistic=-5.574037104347159, pvalue=2.4890268532445165e-08)\n",
      "reject null of sameness (different)\n",
      "medians\n",
      "static 2.0\n",
      "benign 6.0\n",
      "(Wilcoxon Rank Sum Test: Z = -5.57, p $<<$ 0.001)\n",
      "\n",
      "Sites - static vs harsh\n",
      "-----------------\n",
      "RanksumsResult(statistic=-6.9600501405653441, pvalue=3.4015165249764199e-12)\n",
      "reject null of sameness (different)\n",
      "medians\n",
      "static 2.0\n",
      "harsh 8.0\n",
      "(Wilcoxon Rank Sum Test: Z = -6.96, p $<<$ 0.001)\n",
      "\n",
      "Sites - benign vs harsh\n",
      "-----------------\n",
      "RanksumsResult(statistic=-3.0546105235317054, pvalue=0.0022535296365660622)\n",
      "reject null of sameness (different)\n",
      "medians\n",
      "benign 6.0\n",
      "harsh 8.0\n",
      "(Wilcoxon Rank Sum Test: Z = -3.05, p < 0.01)\n"
     ]
    }
   ],
   "source": [
    "mww(a, b, 'static', 'benign', 'Sites', 'Sites')\n",
    "mww(a, c, 'static', 'harsh', 'Sites', 'Sites')\n",
    "mww(b, c, 'benign', 'harsh', 'Sites', 'Sites')\n"
   ]
  },
  {
   "cell_type": "code",
   "execution_count": 15,
   "metadata": {},
   "outputs": [
    {
     "name": "stdout",
     "output_type": "stream",
     "text": [
      "KruskalResult(statistic=7496.1092213477632, pvalue=0.0)\n"
     ]
    }
   ],
   "source": [
    "print stats.kruskal(a,b,c)"
   ]
  },
  {
   "cell_type": "markdown",
   "metadata": {
    "collapsed": true
   },
   "source": []
  },
  {
   "cell_type": "code",
   "execution_count": null,
   "metadata": {
    "collapsed": true
   },
   "outputs": [],
   "source": []
  }
 ],
 "metadata": {
  "kernelspec": {
   "display_name": "Python 2",
   "language": "python",
   "name": "python2"
  },
  "language_info": {
   "codemirror_mode": {
    "name": "ipython",
    "version": 2
   },
   "file_extension": ".py",
   "mimetype": "text/x-python",
   "name": "python",
   "nbconvert_exporter": "python",
   "pygments_lexer": "ipython2",
   "version": "2.7.13"
  },
  "latex_envs": {
   "bibliofile": "biblio.bib",
   "cite_by": "apalike",
   "current_citInitial": 1,
   "eqLabelWithNumbers": true,
   "eqNumInitial": 0
  }
 },
 "nbformat": 4,
 "nbformat_minor": 1
}
