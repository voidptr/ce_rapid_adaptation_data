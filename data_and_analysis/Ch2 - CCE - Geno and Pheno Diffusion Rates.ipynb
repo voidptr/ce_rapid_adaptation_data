{
 "cells": [
  {
   "cell_type": "markdown",
   "metadata": {
    "heading_collapsed": true
   },
   "source": [
    "# Init"
   ]
  },
  {
   "cell_type": "code",
   "execution_count": 5,
   "metadata": {
    "ExecuteTime": {
     "end_time": "2016-12-29T22:11:09.436043",
     "start_time": "2016-12-29T22:11:09.413508"
    },
    "hidden": true
   },
   "outputs": [
    {
     "name": "stdout",
     "output_type": "stream",
     "text": [
      "/Core/home/rosiec/Dropbox/School_Docs/Papers/Journal_CE_Paper/data_analysis/raw_data/082_Final\n",
      "/Core/home/rosiec/Dropbox/School_Docs/Papers/Journal_CE_Paper/data_analysis/intermediate_data\n"
     ]
    }
   ],
   "source": [
    "import collections\n",
    "\n",
    "\n",
    "## Dataset-specific -- edit me\n",
    "data_number = \"082\"\n",
    "data_name = \"Final\"\n",
    "\n",
    "treatments = collections.OrderedDict()\n",
    "treatments['control'] = 'control'\n",
    "treatments['noreward'] = 'benign'\n",
    "treatments['punish'] = 'harsh'\n",
    "\n",
    "## basic config\n",
    "#base_path = \"/home/rosiec/Dropbox/School_Docs/Papers/ALife\\ CE\\ Paper/alife2016/evo_mod/\"\n",
    "#base_path = \"/home/rosiec/Dropbox/School_Docs/Papers/Journal\\ CE\\ Paper/data_analysis/\"\n",
    "base_path = \"/Core/home/rosiec/Dropbox/School_Docs/Papers/Journal_CE_Paper/data_analysis/\"\n",
    "\n",
    "raw_data_directory = \"raw_data\"\n",
    "analysis_directory = \"intermediate_data\"\n",
    "scripts_path = \"~/Dropbox/School_Docs/Research/research_scripts/\"\n",
    "\n",
    "## generated\n",
    "data_directory = data_number + \"_\" + \"_\".join(data_name.split(\" \"))\n",
    "data_path = base_path + raw_data_directory + \"/\" + data_directory\n",
    "analysis_path = base_path + analysis_directory\n",
    "\n",
    "print (data_path)\n",
    "print (analysis_path)\n",
    "\n"
   ]
  },
  {
   "cell_type": "code",
   "execution_count": 6,
   "metadata": {
    "ExecuteTime": {
     "end_time": "2016-12-29T22:11:11.416343",
     "start_time": "2016-12-29T22:11:11.268301"
    },
    "hidden": true
   },
   "outputs": [
    {
     "name": "stdout",
     "output_type": "stream",
     "text": [
      "/Core/home/rosiec/Dropbox/School_Docs/Papers/Journal_CE_Paper/data_analysis/raw_data/082_Final\n",
      "mkdir: cannot create directory ‘/Core/home/rosiec/Dropbox/School_Docs/Papers/Journal_CE_Paper/data_analysis/intermediate_data’: File exists\n",
      "/Core/home/rosiec/Dropbox/School_Docs/Papers/Journal_CE_Paper/data_analysis/intermediate_data\n"
     ]
    },
    {
     "data": {
      "text/plain": [
       "u'/Core/home/rosiec/Dropbox/School_Docs/Papers/Journal_CE_Paper/data_analysis/intermediate_data'"
      ]
     },
     "execution_count": 6,
     "metadata": {},
     "output_type": "execute_result"
    }
   ],
   "source": [
    "%cd {data_path}\n",
    "%mkdir {analysis_path}\n",
    "%cd {analysis_path}\n",
    "%pwd\n"
   ]
  },
  {
   "cell_type": "code",
   "execution_count": 7,
   "metadata": {
    "ExecuteTime": {
     "end_time": "2016-12-29T22:11:15.188798",
     "start_time": "2016-12-29T22:11:13.837661"
    },
    "hidden": true
   },
   "outputs": [
    {
     "data": {
      "text/plain": [
       "u'0.20.3'"
      ]
     },
     "execution_count": 7,
     "metadata": {},
     "output_type": "execute_result"
    }
   ],
   "source": [
    "import glob\n",
    "\n",
    "\n",
    "import seaborn as sns\n",
    "import pandas as pd\n",
    "import numpy as np\n",
    "import matplotlib.pyplot as plt\n",
    "import scipy  \n",
    "import scikits.bootstrap as bootstrap\n",
    "from scipy import stats\n",
    "import matplotlib.gridspec as gridspec\n",
    "#from IPython.display import Image\n",
    "from PIL import Image\n",
    "from IPython.display import Image as ipyImage\n",
    "\n",
    "%matplotlib inline\n",
    "%rehashx\n",
    "pd.__version__"
   ]
  },
  {
   "cell_type": "code",
   "execution_count": 8,
   "metadata": {
    "ExecuteTime": {
     "end_time": "2016-12-29T22:11:16.032935",
     "start_time": "2016-12-29T22:11:15.999395"
    },
    "hidden": true
   },
   "outputs": [
    {
     "name": "stdout",
     "output_type": "stream",
     "text": [
      "Usage: quickplot.py [options] outfile [input_file1 column1 \"directory_glob1\" name1 .. input_fileN columnN \"directory_globN\" nameN] \n",
      "          \n",
      "\n",
      "\n",
      "Options:\n",
      "  -h, --help            show this help message and exit\n",
      "  -v, --verbose         print extra messages to stdout\n",
      "  -d, --debug_messages  print debug messages to stdout\n",
      "  --plotonly            Skip the aggregation step, and plot only, using\n",
      "                        existing data files.\n",
      "  --noplot              Skip the plotting step, only aggregate the data files.\n",
      "  -t TITLE, --title=TITLE\n",
      "                        set a different title than outfile (default)\n",
      "  -x XLABEL, --xlabel=XLABEL\n",
      "                        X-axis Label\n",
      "  -y YLABEL, --ylabel=YLABEL\n",
      "                        Y-axis Label\n",
      "  --include_chevrons    Include line marker glyphs in addition to color\n",
      "  --chevrons_by_members\n",
      "                        Make the chevrons track by members, along with line\n",
      "                        style\n",
      "  --data_members=MEMBER_COUNT\n",
      "                        Number of Components from a given data source\n",
      "                        (treatment)\n",
      "  --alt_axis=ALT_AXIS   Use an alternative axis for the Nth data source\n",
      "  -w Y_LABEL_ALT_AXIS, --ylabel_alt_axis=Y_LABEL_ALT_AXIS\n",
      "                        Alternative Y-axis Label\n",
      "  --xtick_multiplier=XTICK_MULTIPLIER\n",
      "                        X-axis Tick Multipliers\n",
      "  --ylog                Y-axis logarithmic scale\n",
      "  --ylim_max=YLIM_MAX   Set the ylim max\n",
      "  --ylim_min=YLIM_MIN   Set the ylim min\n",
      "  --error               include error bars - error values will be calculated\n",
      "                        from data using bootstrap\n",
      "  --samples=SAMPLES     how many samples to draw for bootstrap?\n",
      "  --end_at=END_AT       Stop plotting at datapoint <end_at>\n"
     ]
    }
   ],
   "source": [
    "import sys\n",
    "sys.path.append({scripts_path})\n",
    "%run {scripts_path}/quickplot.py --help"
   ]
  },
  {
   "cell_type": "markdown",
   "metadata": {},
   "source": [
    "# D_g and D_p - Figure 8"
   ]
  },
  {
   "cell_type": "markdown",
   "metadata": {},
   "source": [
    "## Now to plot out the mutational landscapes\n",
    "The below items were pre-generated using the collect_and_analyze_mut_networks.py script, which calls Avida with a bunch of parameters. These will, in future, be generated as part of the HPCC data-collection process as an after-step in the population generation. But for now, I generated some by hand.   \n",
    "    \n",
    "    \n",
    "First, we generate the mutational networks.\n",
    "\n",
    "    rosiec@edi:/Core/home/rosiec/__research/mutational_landscapes/raw_data/201_CyclicCE/network_metrics_dominant/avida_edi$ for i in ../pops/*spop; do time python ../../../../../scripts/project_specific/mutational_landscapes/collect_and_analyze_mut_network.py --verbose --complete -s1 --interconnect -d --environment environment.cfg $i ../networks/$(basename $i).s1_dominant_rewarded.xml; done\n",
    "\n",
    "    rosiec@edi:/Core/home/rosiec/__research/mutational_landscapes/raw_data/201_CyclicCE/network_metrics_dominant/avida_edi$ for i in ../pops/*noreward*spop; do time python ../../../../../scripts/project_specific/mutational_landscapes/collect_and_analyze_mut_network.py --verbose --complete -s1 --interconnect -d --environment environment_noreward.cfg $i ../networks/$(basename $i).s1_dominant_noreward.xml; done\n",
    "\n",
    "    rosiec@edi:/Core/home/rosiec/__research/mutational_landscapes/raw_data/201_CyclicCE/network_metrics_dominant/avida_edi$ for i in ../pops/*punish*spop; do time python ../../../../../scripts/project_specific/mutational_landscapes/collect_and_analyze_mut_network.py --verbose --complete -s1 --interconnect -d --environment environment_punish.cfg $i ../networks/$(basename $i).s1_dominant_punished.xml; done\n",
    "\n",
    "Then, we extract he network metrics that we use to calculate D_p and D_g\n",
    "\n",
    "    rosiec@edi:/Core/home/rosiec/__research/mutational_landscapes/raw_data/201_CyclicCE/network_metrics_dominant/metrics$ for i in ../networks/*xml; do echo $i; time python ../../../../../scripts/project_specific/mutational_landscapes/collect_network_metrics.py $i > $(basename $i).network_metrics.csv; done    "
   ]
  },
  {
   "cell_type": "code",
   "execution_count": 13,
   "metadata": {
    "ExecuteTime": {
     "end_time": "2017-01-02T08:27:24.462825",
     "start_time": "2017-01-02T08:27:19.036793"
    },
    "code_folding": [
     0
    ]
   },
   "outputs": [
    {
     "name": "stdout",
     "output_type": "stream",
     "text": [
      "/Core/home/rosiec/Dropbox/School_Docs/Papers/Journal_CE_Paper/data_analysis/intermediate_data\r\n"
     ]
    },
    {
     "data": {
      "image/png": "[encoded data removed]",
      "text/plain": [
       "<matplotlib.figure.Figure at 0x7f53d28d66d0>"
      ]
     },
     "metadata": {},
     "output_type": "display_data"
    }
   ],
   "source": [
    "subdir = \"../201_CyclicCE/\"\n",
    "\n",
    "tname = {\"control\": \"Static\\n(control)\",\n",
    "        \"noreward\": \"Benign\",\n",
    "        \"punish\": \"Harsh\"}    \n",
    "    \n",
    "## CALCULATE Genomic Diffusion Rate and Phenotypic Diffusion Rate\n",
    "fields = [\"num_cpus\", \"lethal\", \"deleterious\", \"neutral\", \"beneficial\", \n",
    "          \"same_p_lethal\", \"same_p_deleterious\", \"same_p_neutral\", \"same_p_beneficial\", \n",
    "          \"diff_p_lethal\", \"diff_p_deleterious\", \"diff_p_neutral\", \"diff_p_beneficial\"]\n",
    "## defaults\n",
    "mu = 0.00075 # per-site copy mutation rate -- R_c in the paper\n",
    "l = 121 # genome length\n",
    "D = 26 # inst-set size        \n",
    "### Fidelity -- probability of birthing a genetically unchanged offspring\n",
    "F = (1 - mu)**l\n",
    "\n",
    "dfs = []\n",
    "dfs_joint = []\n",
    "\n",
    "for t in treatments:  \n",
    "    \n",
    "    D_gs = []\n",
    "    D_ps = []\n",
    "\n",
    "    for i in range(1, 50): \n",
    "        bit = str(i).zfill(2)\n",
    "        filepath = data_path + \"/\" + subdir + \"/network_metrics_wholepop/metrics\"\n",
    "        filepath = filepath.replace(\"\\\\\", \"\")\n",
    "        final = filepath + '/*' + t + \"*_2010\" + bit + '_*.network_metrics.csv'\n",
    "        \n",
    "        dfiles = sorted(glob.glob(final))\n",
    "\n",
    "        D_g_pair = []\n",
    "        D_p_pair = []\n",
    "        for item in dfiles:\n",
    "            dta = pd.read_csv(item, header=None, comment=\"#\", \n",
    "                              delimiter=\",\",\n",
    "                              skipinitialspace=True, \n",
    "                              names=fields, usecols=range(0,len(fields)))\n",
    "    \n",
    "            nu_g = np.mean(dta['neutral'] + dta['beneficial'])\n",
    "            nu_p = np.mean(dta['same_p_neutral'] + dta['same_p_beneficial'])\n",
    "\n",
    "            f_c_prob_nonneut = mu * (1 - nu_g)\n",
    "            F_neut = (1 - f_c_prob_nonneut)**l\n",
    "\n",
    "            f_cp_prob_nonneut_diffphen = mu * (1 - nu_p)\n",
    "            F_pheno = (1 - f_cp_prob_nonneut_diffphen)**l\n",
    "\n",
    "            aD_g = F_neut - F\n",
    "            aD_p = F_neut - F_pheno        \n",
    "\n",
    "            D_g_pair.append(aD_g)\n",
    "            D_p_pair.append(aD_p)\n",
    "            \n",
    "        if len(dfiles) > 1 or (len(dfiles) == 1 and t == \"control\"): ## make sure there's something here            \n",
    "            D_g = np.mean(D_g_pair)\n",
    "            D_p = np.mean(D_p_pair)\n",
    "\n",
    "            D_gs.append(D_g)\n",
    "            D_ps.append(D_p)\n",
    "\n",
    "    dta = pd.DataFrame()\n",
    "    dta['Diffusion Rate'] = D_gs\n",
    "    dta['Metric'] = [r'$D_g$']*len(D_gs)\n",
    "    dta['Environment'] = [tname[t]]*len(D_gs)    \n",
    "    dfs.append(dta)\n",
    "\n",
    "    dta = pd.DataFrame()\n",
    "    dta['Diffusion Rate'] = D_ps\n",
    "    dta['Metric'] = [r'$D_p$']*len(D_ps)\n",
    "    dta['Environment'] = [tname[t]]*len(D_ps)\n",
    "    dfs.append(dta)\n",
    "    \n",
    "diffusion_rates_201_wholepop = pd.concat(dfs, axis=0)\n",
    "#print diffusion_rates_201_wholepop.head()  \n",
    "#print diffusion_rates_201_wholepop.tail()  \n",
    "\n",
    "sns.set(#style=\"whitegrid\", \n",
    "    color_codes=True, \n",
    "    palette=\"colorblind\")\n",
    "\n",
    "sns.set_context('paper', font_scale=2)\n",
    "g = sns.factorplot(x=\"Environment\", y=\"Diffusion Rate\",\n",
    "                   hue=\"Metric\",\n",
    "                   data=diffusion_rates_201_wholepop,\n",
    "                   size=5, aspect=1.5, #\n",
    "                   palette={r'$D_g$': \"c\", \n",
    "                            r'$D_p$': \"y\"},\n",
    "                   kind=\"box\", \n",
    "                   legend=False\n",
    "              )\n",
    "plt.subplots_adjust(top=0.85)\n",
    "\n",
    "titles = [\"Genomic and Phenotypic Diffusion Rates\\nCyclic Changing Environment\"]\n",
    "for ax, title in zip(g.axes.flat, titles):\n",
    "    ax.set_title(title)\n",
    "    \n",
    "L=plt.legend(loc=\"upper right\")\n",
    "\n",
    "\n",
    "#plt.show()\n",
    "\n",
    "\n",
    "!pwd\n",
    "plt.savefig(\"CCE_D_g_D_p__box.png\", dpi=300)\n",
    "\n",
    "\n",
    "# sns.set_context('paper', font_scale=2)\n",
    "# plt.rcParams['figure.figsize'] = (7.5, 5)\n",
    "\n",
    "# g = sns.violinplot(x=\"Environment\", y=\"Diffusion Rate\",\n",
    "#                    hue=\"Metric\",\n",
    "#                    data=diffusion_rates_201_wholepop,\n",
    "#                    #size=5, aspect=1.5, #\n",
    "#                    palette={r'$D_g$': \"c\", \n",
    "#                             r'$D_p$': \"y\"},\n",
    "#                    #kind=\"violin\", \n",
    "#                    #legend=False\n",
    "#                    scale=\"count\", \n",
    "# #                    scale_hue=True, \n",
    "#                     bw=.3, \n",
    "#                     inner=\"quart\",\n",
    "#               )\n",
    "# sns.swarmplot(x=\"Environment\", y=\"Diffusion Rate\",\n",
    "#                    hue=\"Metric\",\n",
    "#                    data=diffusion_rates_201_wholepop,\n",
    "#                    size=5, #aspect=1.5, #\n",
    "# #                   color=\"gray\",\n",
    "#                   edgecolor=\"black\",\n",
    "#                   linewidth=0.5,\n",
    "#                    palette={r'$D_g$': \"r\", \n",
    "#                             r'$D_p$': \"g\"},\n",
    "#                    #kind=\"violin\", \n",
    "#                   split = True,\n",
    "#                    #legend=False,\n",
    "#               alpha=0.25,\n",
    "#                 ax=g\n",
    "#               )\n",
    "# plt.subplots_adjust(top=0.85)\n",
    "\n",
    "\n",
    "# #titles = [\"Genomic and Phenotypic Diffusion Rates\\nStochastic Changing Environment\"]\n",
    "# #for ax, title in zip(g.axes.flat, titles):\n",
    "# #    ax.set_title(title)\n",
    "# g.set_title(\"Genomic and Phenotypic Diffusion Rates\\nCyclic Changing Environment\")\n",
    "#     #ax.set_ylim([0,0.35])\n",
    "#     #ax.set_ylabel(\"Diffusion Rate\")\n",
    "    \n",
    "# #L=plt.legend(loc=\"upper right\")#, bbox_to_anchor=(1.05, 1))#bbox_to_anchor=(1.05, 1), loc=2, borderaxespad=0.)\n",
    "# handles, labels = ax.get_legend_handles_labels()\n",
    "# g.legend(handles[:2], labels[:2], loc='upper right')\n",
    "\n",
    "\n",
    "\n",
    "\n",
    "# plt.show()\n",
    "\n",
    "\n",
    "\n",
    "\n",
    "\n",
    "# sns.set_context('paper', font_scale=2)\n",
    "# plt.rcParams['figure.figsize'] = (7.5, 5)\n",
    "\n",
    "# g = sns.boxplot(x=\"Environment\", y=\"Diffusion Rate\",\n",
    "#                    hue=\"Metric\",\n",
    "#                    data=diffusion_rates_201_wholepop,\n",
    "#                    #size=5, aspect=1.5, #\n",
    "#                    palette={r'$D_g$': \"c\", \n",
    "#                             r'$D_p$': \"y\"},\n",
    "#                    #kind=\"violin\", \n",
    "#                    #legend=False\n",
    "#                    #scale=\"count\", \n",
    "# #                    scale_hue=True, \n",
    "#                     #bw=.3, \n",
    "#                     #inner=\"quart\",\n",
    "#               )\n",
    "# sns.swarmplot(x=\"Environment\", y=\"Diffusion Rate\",\n",
    "#                    hue=\"Metric\",\n",
    "#                    data=diffusion_rates_201_wholepop,\n",
    "#                    size=5, #aspect=1.5, #\n",
    "# #                   color=\"gray\",\n",
    "#                   edgecolor=\"black\",\n",
    "#                   linewidth=1,\n",
    "#                    palette={r'$D_g$': \"r\", \n",
    "#                             r'$D_p$': \"g\"},\n",
    "#                    #kind=\"violin\", \n",
    "#                   split = True,\n",
    "#                    #legend=False,\n",
    "#               alpha=0.25,\n",
    "#                 ax=g\n",
    "#               )\n",
    "# plt.subplots_adjust(top=0.85)\n",
    "\n",
    "\n",
    "# #titles = [\"Genomic and Phenotypic Diffusion Rates\\nStochastic Changing Environment\"]\n",
    "# #for ax, title in zip(g.axes.flat, titles):\n",
    "# #    ax.set_title(title)\n",
    "# g.set_title(\"Genomic and Phenotypic Diffusion Rates\\nCyclic Changing Environment\")\n",
    "#     #ax.set_ylim([0,0.35])\n",
    "#     #ax.set_ylabel(\"Diffusion Rate\")\n",
    "    \n",
    "# #L=plt.legend(loc=\"upper right\")#, bbox_to_anchor=(1.05, 1))#bbox_to_anchor=(1.05, 1), loc=2, borderaxespad=0.)\n",
    "# handles, labels = ax.get_legend_handles_labels()\n",
    "# g.legend(handles[:2], labels[:2], loc='upper right')\n"
   ]
  },
  {
   "cell_type": "markdown",
   "metadata": {},
   "source": [
    "# Stats"
   ]
  },
  {
   "cell_type": "code",
   "execution_count": 64,
   "metadata": {
    "collapsed": true
   },
   "outputs": [],
   "source": [
    "def mww(a, b, nameA, nameB, title, field):\n",
    "    \n",
    "    a = a.dropna()\n",
    "    b = b.dropna()\n",
    "    \n",
    "    print\n",
    "    print title + \" - \" + nameA + \" vs \" + nameB\n",
    "    print \"-----------------\"\n",
    "    print stats.ranksums(a[field], b[field]) \n",
    "    z_stat, p_val = stats.ranksums(a[field], b[field])  \n",
    "\n",
    "    if p_val < 0.00001:\n",
    "        p_text = \" $<<$ 0.001\"\n",
    "    elif p_val < 0.001:\n",
    "        p_text = \" $<$ 0.001\"\n",
    "    elif p_val < 0.01:\n",
    "        p_text = \" $<$ 0.01\"        \n",
    "    elif p_val < 0.05:\n",
    "        p_text = \" $<$ 0.05\"\n",
    "    else:\n",
    "        p_text = \" = \" + str(round(p_val, 2))\n",
    "        \n",
    "    #print (z_stat)\n",
    "    #print (p_val)\n",
    "\n",
    "    if p_val < (0.05/3): #bonferroni\n",
    "        print (\"reject null of sameness (different)\")\n",
    "    else:\n",
    "        print (\"can't reject null of sameness\")\n",
    "    print \"medians\"\n",
    "    #print nameA, a[field].median()\n",
    "    #print nameB, b[field].median()\n",
    "    \n",
    "    sys.stdout.write(nameA + \": \")\n",
    "    doCI(a[field])\n",
    "    sys.stdout.write(nameB + \": \")\n",
    "    doCI(b[field])\n",
    "    \n",
    "    print \"(Wilcoxon Rank Sum Test: Z = \" + str(round(z_stat, 2)) + \", p\" + p_text + \")\"\n",
    "\n",
    "def kruskal(a, b, c, field=None, verbose=False):\n",
    "    x = a[field].dropna()\n",
    "    y = b[field].dropna()\n",
    "    z = c[field].dropna()    \n",
    "\n",
    "    if verbose:\n",
    "        print a[field].describe()\n",
    "        print b[field].describe()\n",
    "        print c[field].describe()\n",
    "        print\n",
    "        print x\n",
    "        print y\n",
    "        print z\n",
    "    \n",
    "    #vals = stats.kruskal(x, y, z)\n",
    "    \n",
    "    h2_stat, p_val = stats.kruskal(x, y, z)\n",
    "\n",
    "    if p_val < 0.00001:\n",
    "        p_text = \" $<<$ 0.001\"\n",
    "    elif p_val < 0.001:\n",
    "        p_text = \" $<$ 0.001\"\n",
    "    elif p_val < 0.01:\n",
    "        p_text = \" $<$ 0.01\"        \n",
    "    elif p_val < 0.05:\n",
    "        p_text = \" $<$ 0.05\"\n",
    "    else:\n",
    "        p_text = \" = \" + str(round(p_val, 2))\n",
    "    \n",
    "    print stats.kruskal(x, y, z)\n",
    "#    (Kruskal Wallis: H(2) = 1.4, p = 0.48)\n",
    "    print \"(Kruskal Wallis: H(2) = \" + str(round(h2_stat, 2)) + \", p\" + p_text + \")\"\n",
    "    \n",
    "def medianCI(data, ci=0.95, p=0.5):    \n",
    "    '''\n",
    "    From https://github.com/minddrummer/median-confidence-interval/blob/master/Median_CI.py\n",
    "    data: pandas datafame/series or numpy array\n",
    "    ci: confidence level\n",
    "    p: percentile' percent, for median it is 0.5\n",
    "    output: a list with two elements, [lowerBound, upperBound]\n",
    "    '''\n",
    "    if type(data) is pd.Series or type(data) is pd.DataFrame:\n",
    "        #transfer data into np.array\n",
    "        data = data.values\n",
    "\n",
    "    #flat to one dimension array\n",
    "    data = data.reshape(-1)\n",
    "    data = np.sort(data)\n",
    "    N = data.shape[0]\n",
    "    \n",
    "    lowCount, upCount = stats.binom.interval(ci, N, p, loc=0)\n",
    "    #given this: https://onlinecourses.science.psu.edu/stat414/node/316\n",
    "    #lowCount and upCount both refers to  W's value, W follows binomial Dis.\n",
    "    #lowCount need to change to lowCount-1, upCount no need to change in python indexing\n",
    "    lowCount -= 1\n",
    "    # print lowCount, upCount\n",
    "    return data[int(lowCount)], data[int(upCount)]  \n",
    "\n",
    "def doCI(data):\n",
    "    \n",
    "    low, high = medianCI(data)\n",
    "    \n",
    "    med = data.median()\n",
    "    \n",
    "    print \"(Mdn = \" +str(round(med, 2))+ \", CI 95\\% [\" + str(round(low, 2)) + \", \" + str(round(high, 2)) + \"])\"\n",
    "    print \" --- (Mdn = \" +str(round(med, 4))+ \", CI 95\\% [\" + str(round(low, 4)) + \", \" + str(round(high, 4)) + \"])\"\n",
    "    \n",
    "def corr(a, b, nameA, nameB, title, fieldA, fieldB):\n",
    "    print\n",
    "    print title + \" - \" + nameA + \" vs \" + nameB\n",
    "    print \"-----------------\"\n",
    "#     print stats.ranksums(a[field], b[field]) \n",
    "#     z_stat, p_val = stats.ranksums(a[field], b[field])  \n",
    "    \n",
    "    correlation = ss.pearsonr(a[fieldA], b[fieldB])\n",
    "\n",
    "    from decimal import Decimal\n",
    "\n",
    "    #r2 = '%.2E' % Decimal(correlation[0])\n",
    "    p = '%.2E' % Decimal(correlation[1])\n",
    "    \n",
    "    p_val = correlation[1]\n",
    "\n",
    "    #ann = \"$r_{2}$ = \" + str(round(correlation[0], 2)) + \"\\n\" + \"$p$ = \" + p\n",
    "\n",
    "    if p_val < 0.00001:\n",
    "        p_text = \" $<<$ 0.001\"\n",
    "    elif p_val < 0.001:\n",
    "        p_text = \" < 0.001\"\n",
    "    elif p_val < 0.01:\n",
    "        p_text = \" < 0.01\"        \n",
    "    elif p_val < 0.05:\n",
    "        p_text = \" $<$ 0.05\"\n",
    "    else:\n",
    "        p_text = \" = \" + str(round(p_val, 2))\n",
    "        \n",
    "    print \"(Pearson's R: $r_{2}$ = \" + str(round(correlation[0], 2)) + \", p = \" + p_text + \")\"   \n",
    "        \n",
    "    #print (z_stat)\n",
    "    #print (p_val)\n",
    "\n",
    "#     if p_val < (0.05/3): #bonferroni\n",
    "#         print (\"reject null of sameness (different)\")\n",
    "#     else:\n",
    "#         print (\"can't reject null of sameness\")\n",
    "    print \"medians\"\n",
    "    print nameA, a[fieldA].median()\n",
    "    print nameB, b[fieldB].median()\n",
    "    \n",
    "#    print \"(Wilcoxon Rank Sum Test: Z = \" + str(round(z_stat, 2)) + \", p\" + p_text + \")\""
   ]
  },
  {
   "cell_type": "code",
   "execution_count": 28,
   "metadata": {},
   "outputs": [
    {
     "name": "stdout",
     "output_type": "stream",
     "text": [
      "   Diffusion Rate Metric        Environment\n",
      "0        0.021873  $D_g$  Static\\n(control)\n",
      "1        0.017177  $D_g$  Static\\n(control)\n",
      "2        0.023240  $D_g$  Static\\n(control)\n",
      "3        0.037189  $D_g$  Static\\n(control)\n",
      "4        0.023834  $D_g$  Static\\n(control)\n"
     ]
    }
   ],
   "source": [
    "print diffusion_rates_201_wholepop.head()"
   ]
  },
  {
   "cell_type": "code",
   "execution_count": 65,
   "metadata": {
    "scrolled": true
   },
   "outputs": [
    {
     "name": "stdout",
     "output_type": "stream",
     "text": [
      "   Diffusion Rate Metric        Environment\n",
      "0             0.0  $D_p$  Static\\n(control)\n",
      "1             0.0  $D_p$  Static\\n(control)\n",
      "2             0.0  $D_p$  Static\\n(control)\n",
      "3             0.0  $D_p$  Static\\n(control)\n",
      "4             0.0  $D_p$  Static\\n(control)\n",
      "   Diffusion Rate Metric Environment\n",
      "0        0.000388  $D_p$      Benign\n",
      "1        0.000467  $D_p$      Benign\n",
      "2        0.005763  $D_p$      Benign\n",
      "3        0.001726  $D_p$      Benign\n",
      "4        0.001816  $D_p$      Benign\n",
      "   Diffusion Rate Metric Environment\n",
      "0        0.007489  $D_p$       Harsh\n",
      "1        0.004694  $D_p$       Harsh\n",
      "2        0.002879  $D_p$       Harsh\n",
      "3        0.005994  $D_p$       Harsh\n",
      "4        0.001006  $D_p$       Harsh\n"
     ]
    }
   ],
   "source": [
    "dat = diffusion_rates_201_wholepop.loc[diffusion_rates_201_wholepop['Metric'] == '$D_p$']\n",
    "\n",
    "a = dat.loc[dat['Environment'] == 'Static\\n(control)'].dropna()\n",
    "b = dat.loc[dat['Environment'] == 'Benign'].dropna()\n",
    "c = dat.loc[dat['Environment'] == 'Harsh'].dropna()\n",
    "\n",
    "print a.head()\n",
    "print b.head()\n",
    "print c.head()"
   ]
  },
  {
   "cell_type": "code",
   "execution_count": 66,
   "metadata": {},
   "outputs": [
    {
     "name": "stdout",
     "output_type": "stream",
     "text": [
      "\n",
      "$D_p$ - Static vs Benign\n",
      "-----------------\n",
      "RanksumsResult(statistic=-8.0184446462798853, pvalue=1.0709252390171238e-15)\n",
      "reject null of sameness (different)\n",
      "medians\n",
      "Static: (Mdn = 0.0, CI 95\\% [0.0, 0.0])\n",
      " --- (Mdn = 0.0, CI 95\\% [0.0, 0.0])\n",
      "Benign: (Mdn = 0.0, CI 95\\% [0.0, 0.0])\n",
      " --- (Mdn = 0.0018, CI 95\\% [0.0012, 0.0023])\n",
      "(Wilcoxon Rank Sum Test: Z = -8.02, p $<<$ 0.001)\n",
      "\n",
      "$D_p$ - Static vs Harsh\n",
      "-----------------\n",
      "RanksumsResult(statistic=-8.392705165797258, pvalue=4.7508194626989813e-17)\n",
      "reject null of sameness (different)\n",
      "medians\n",
      "Static: (Mdn = 0.0, CI 95\\% [0.0, 0.0])\n",
      " --- (Mdn = 0.0, CI 95\\% [0.0, 0.0])\n",
      "Harsh: (Mdn = 0.01, CI 95\\% [0.0, 0.01])\n",
      " --- (Mdn = 0.0059, CI 95\\% [0.0047, 0.0075])\n",
      "(Wilcoxon Rank Sum Test: Z = -8.39, p $<<$ 0.001)\n"
     ]
    }
   ],
   "source": [
    "mww(a, b, \"Static\", 'Benign', '$D_p$', 'Diffusion Rate')\n",
    "mww(a, c, \"Static\", 'Harsh', '$D_p$', 'Diffusion Rate')\n"
   ]
  },
  {
   "cell_type": "code",
   "execution_count": null,
   "metadata": {
    "collapsed": true
   },
   "outputs": [],
   "source": []
  },
  {
   "cell_type": "code",
   "execution_count": 62,
   "metadata": {
    "scrolled": true
   },
   "outputs": [
    {
     "name": "stdout",
     "output_type": "stream",
     "text": [
      "   Diffusion Rate Metric        Environment\n",
      "0        0.021873  $D_g$  Static\\n(control)\n",
      "1        0.017177  $D_g$  Static\\n(control)\n",
      "2        0.023240  $D_g$  Static\\n(control)\n",
      "3        0.037189  $D_g$  Static\\n(control)\n",
      "4        0.023834  $D_g$  Static\\n(control)\n",
      "   Diffusion Rate Metric Environment\n",
      "0        0.019466  $D_g$      Benign\n",
      "1        0.026137  $D_g$      Benign\n",
      "2        0.032421  $D_g$      Benign\n",
      "3        0.022156  $D_g$      Benign\n",
      "4        0.021485  $D_g$      Benign\n",
      "   Diffusion Rate Metric Environment\n",
      "0        0.029034  $D_g$       Harsh\n",
      "1        0.028257  $D_g$       Harsh\n",
      "2        0.027879  $D_g$       Harsh\n",
      "3        0.027248  $D_g$       Harsh\n",
      "4        0.027331  $D_g$       Harsh\n"
     ]
    }
   ],
   "source": [
    "dat = diffusion_rates_201_wholepop.loc[diffusion_rates_201_wholepop['Metric'] == '$D_g$']\n",
    "\n",
    "a = dat.loc[dat['Environment'] == 'Static\\n(control)'].dropna()\n",
    "b = dat.loc[dat['Environment'] == 'Benign'].dropna()\n",
    "c = dat.loc[dat['Environment'] == 'Harsh'].dropna()\n",
    "\n",
    "print a.head()\n",
    "print b.head()\n",
    "print c.head()"
   ]
  },
  {
   "cell_type": "code",
   "execution_count": 63,
   "metadata": {
    "scrolled": false
   },
   "outputs": [
    {
     "name": "stdout",
     "output_type": "stream",
     "text": [
      "KruskalResult(statistic=1.4350489443016272, pvalue=0.48795871742360741)\n",
      "(Kruskal Wallis: H(2) = 1.44, p = 0.49)\n"
     ]
    }
   ],
   "source": [
    "kruskal(a, b, c, \"Diffusion Rate\")"
   ]
  },
  {
   "cell_type": "code",
   "execution_count": null,
   "metadata": {
    "collapsed": true
   },
   "outputs": [],
   "source": []
  },
  {
   "cell_type": "code",
   "execution_count": null,
   "metadata": {
    "collapsed": true
   },
   "outputs": [],
   "source": []
  }
 ],
 "metadata": {
  "kernelspec": {
   "display_name": "Python 2",
   "language": "python",
   "name": "python2"
  },
  "language_info": {
   "codemirror_mode": {
    "name": "ipython",
    "version": 2
   },
   "file_extension": ".py",
   "mimetype": "text/x-python",
   "name": "python",
   "nbconvert_exporter": "python",
   "pygments_lexer": "ipython2",
   "version": "2.7.9"
  },
  "latex_envs": {
   "bibliofile": "biblio.bib",
   "cite_by": "apalike",
   "current_citInitial": 1,
   "eqLabelWithNumbers": true,
   "eqNumInitial": 0
  }
 },
 "nbformat": 4,
 "nbformat_minor": 1
}
